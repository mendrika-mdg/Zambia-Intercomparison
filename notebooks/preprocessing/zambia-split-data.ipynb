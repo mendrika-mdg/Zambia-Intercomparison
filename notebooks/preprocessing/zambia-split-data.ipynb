{
 "cells": [
  {
   "cell_type": "code",
   "execution_count": 1,
   "id": "23838ef1",
   "metadata": {},
   "outputs": [],
   "source": [
    "import re\n",
    "import os\n",
    "from collections import defaultdict"
   ]
  },
  {
   "cell_type": "code",
   "execution_count": 2,
   "id": "86e0ee5a",
   "metadata": {},
   "outputs": [],
   "source": [
    "INPUT_DIR = \"/gws/nopw/j04/wiser_ewsa/mrakotomanga/Intercomparison/raw/inputs_t0\"\n",
    "SAVE_DIR  = \"/gws/nopw/j04/wiser_ewsa/mrakotomanga/Intercomparison/splits\"\n",
    "os.makedirs(SAVE_DIR, exist_ok=True)"
   ]
  },
  {
   "cell_type": "code",
   "execution_count": 3,
   "id": "5a18194a",
   "metadata": {},
   "outputs": [],
   "source": [
    "def extract_year(filename):\n",
    "    \"\"\"\n",
    "    Extracts 4-digit year from filenames like:\n",
    "    input-20181230_1200.pt → 2018\n",
    "    \"\"\"\n",
    "    match = re.search(r\"(\\d{4})\\d{2}\\d{2}_\\d{4}\", filename)\n",
    "    if match:\n",
    "        return int(match.group(1))\n",
    "    else:\n",
    "        return None"
   ]
  },
  {
   "cell_type": "code",
   "execution_count": 4,
   "id": "24bfcfa0",
   "metadata": {},
   "outputs": [],
   "source": [
    "all_files = sorted([\n",
    "    os.path.join(INPUT_DIR, f)\n",
    "    for f in os.listdir(INPUT_DIR)\n",
    "    if f.endswith(\".pt\")\n",
    "])"
   ]
  },
  {
   "cell_type": "code",
   "execution_count": 5,
   "id": "62100756",
   "metadata": {},
   "outputs": [
    {
     "data": {
      "text/plain": [
       "103771"
      ]
     },
     "execution_count": 5,
     "metadata": {},
     "output_type": "execute_result"
    }
   ],
   "source": [
    "len(all_files)"
   ]
  },
  {
   "cell_type": "code",
   "execution_count": 6,
   "id": "aba848e1",
   "metadata": {},
   "outputs": [],
   "source": [
    "by_year = defaultdict(list)\n",
    "for f in all_files:\n",
    "    year = extract_year(os.path.basename(f))\n",
    "    if year is not None:\n",
    "        by_year[year].append(f)"
   ]
  },
  {
   "cell_type": "code",
   "execution_count": 7,
   "id": "375054ba",
   "metadata": {},
   "outputs": [],
   "source": [
    "train_years = range(2004, 2019)\n",
    "val_years   = [2019]\n",
    "test_years  = range(2020, 2025)"
   ]
  },
  {
   "cell_type": "code",
   "execution_count": 8,
   "id": "9f2e4ebb",
   "metadata": {},
   "outputs": [],
   "source": [
    "train_files = [f for y in train_years for f in by_year.get(y, [])]\n",
    "val_files   = [f for y in val_years   for f in by_year.get(y, [])]\n",
    "test_files  = [f for y in test_years  for f in by_year.get(y, [])]"
   ]
  },
  {
   "cell_type": "code",
   "execution_count": 9,
   "id": "e2c7921c",
   "metadata": {},
   "outputs": [
    {
     "name": "stdout",
     "output_type": "stream",
     "text": [
      "Saved train split → 76,138 files\n",
      "Saved val split → 4,872 files\n",
      "Saved test split → 22,761 files\n"
     ]
    }
   ],
   "source": [
    "def save_list(file_list, name):\n",
    "    path = os.path.join(SAVE_DIR, f\"{name}_files.txt\")\n",
    "    with open(path, \"w\") as f:\n",
    "        for item in sorted(file_list):\n",
    "            f.write(f\"{item}\\n\")\n",
    "    print(f\"Saved {name} split → {len(file_list):,} files\")\n",
    "\n",
    "save_list(train_files, \"train\")\n",
    "save_list(val_files, \"val\")\n",
    "save_list(test_files, \"test\")"
   ]
  },
  {
   "cell_type": "code",
   "execution_count": 10,
   "id": "507997e1",
   "metadata": {},
   "outputs": [],
   "source": [
    "import torch"
   ]
  },
  {
   "cell_type": "code",
   "execution_count": 11,
   "id": "294cc6a7",
   "metadata": {},
   "outputs": [
    {
     "name": "stdout",
     "output_type": "stream",
     "text": [
      "input-20200215_1300.pt torch.Size([288, 10])\n",
      "input-20201204_1515.pt torch.Size([288, 10])\n",
      "input-20210102_0230.pt torch.Size([288, 10])\n",
      "input-20230126_1900.pt torch.Size([288, 10])\n"
     ]
    }
   ],
   "source": [
    "path = \"/gws/nopw/j04/wiser_ewsa/mrakotomanga/Intercomparison/raw/inputs_t0\"\n",
    "files = [\n",
    "    \"input-20200215_1300.pt\",\n",
    "    \"input-20201204_1515.pt\",\n",
    "    \"input-20210102_0230.pt\",\n",
    "    \"input-20230126_1900.pt\",\n",
    "]\n",
    "\n",
    "for f in files:\n",
    "    p = os.path.join(path, f)\n",
    "    d = torch.load(p)\n",
    "    print(f, d[\"input_tensor\"].shape)"
   ]
  },
  {
   "cell_type": "code",
   "execution_count": 12,
   "id": "ea796b99",
   "metadata": {},
   "outputs": [
    {
     "name": "stdout",
     "output_type": "stream",
     "text": [
      "target-20200215_1300.pt torch.Size([350, 370])\n",
      "target-20201204_1515.pt torch.Size([350, 370])\n",
      "target-20210102_0230.pt torch.Size([350, 370])\n",
      "target-20230126_1900.pt torch.Size([350, 370])\n"
     ]
    }
   ],
   "source": [
    "import torch, os\n",
    "\n",
    "lead_time = \"1\"\n",
    "base = f\"/gws/nopw/j04/wiser_ewsa/mrakotomanga/Intercomparison/raw/targets_t{lead_time}\"\n",
    "\n",
    "check_files = [\n",
    "    \"target-20200215_1300.pt\",\n",
    "    \"target-20201204_1515.pt\",\n",
    "    \"target-20210102_0230.pt\",\n",
    "    \"target-20230126_1900.pt\",\n",
    "]\n",
    "\n",
    "for f in check_files:\n",
    "    p = os.path.join(base, f)\n",
    "    d = torch.load(p)\n",
    "    print(f, d[\"data\"].shape)\n"
   ]
  },
  {
   "cell_type": "code",
   "execution_count": 13,
   "id": "d71076d5",
   "metadata": {},
   "outputs": [
    {
     "ename": "KeyboardInterrupt",
     "evalue": "",
     "output_type": "error",
     "traceback": [
      "\u001b[31m---------------------------------------------------------------------------\u001b[39m",
      "\u001b[31mKeyboardInterrupt\u001b[39m                         Traceback (most recent call last)",
      "\u001b[36mCell\u001b[39m\u001b[36m \u001b[39m\u001b[32mIn[13]\u001b[39m\u001b[32m, line 16\u001b[39m\n\u001b[32m     14\u001b[39m \u001b[38;5;28;01mtry\u001b[39;00m:\n\u001b[32m     15\u001b[39m     x = torch.load(os.path.join(inputs_dir, fname))[\u001b[33m\"\u001b[39m\u001b[33minput_tensor\u001b[39m\u001b[33m\"\u001b[39m].numpy()\n\u001b[32m---> \u001b[39m\u001b[32m16\u001b[39m     y = \u001b[43mtorch\u001b[49m\u001b[43m.\u001b[49m\u001b[43mload\u001b[49m\u001b[43m(\u001b[49m\u001b[43mtpath\u001b[49m\u001b[43m)\u001b[49m[\u001b[33m\"\u001b[39m\u001b[33mdata\u001b[39m\u001b[33m\"\u001b[39m].numpy()\n\u001b[32m     17\u001b[39m     \u001b[38;5;28;01mif\u001b[39;00m x.shape != (\u001b[32m288\u001b[39m, \u001b[32m10\u001b[39m) \u001b[38;5;129;01mor\u001b[39;00m y.shape != (\u001b[32m350\u001b[39m, \u001b[32m370\u001b[39m):\n\u001b[32m     18\u001b[39m         bad.append(fname)\n",
      "\u001b[36mFile \u001b[39m\u001b[32m~/EPS-Impact-Case-AI-Nowcasting/.venv/lib/python3.12/site-packages/torch/serialization.py:1479\u001b[39m, in \u001b[36mload\u001b[39m\u001b[34m(f, map_location, pickle_module, weights_only, mmap, **pickle_load_args)\u001b[39m\n\u001b[32m   1476\u001b[39m \u001b[38;5;28;01mif\u001b[39;00m \u001b[33m\"\u001b[39m\u001b[33mencoding\u001b[39m\u001b[33m\"\u001b[39m \u001b[38;5;129;01mnot\u001b[39;00m \u001b[38;5;129;01min\u001b[39;00m pickle_load_args.keys():\n\u001b[32m   1477\u001b[39m     pickle_load_args[\u001b[33m\"\u001b[39m\u001b[33mencoding\u001b[39m\u001b[33m\"\u001b[39m] = \u001b[33m\"\u001b[39m\u001b[33mutf-8\u001b[39m\u001b[33m\"\u001b[39m\n\u001b[32m-> \u001b[39m\u001b[32m1479\u001b[39m \u001b[38;5;28;01mwith\u001b[39;00m \u001b[43m_open_file_like\u001b[49m\u001b[43m(\u001b[49m\u001b[43mf\u001b[49m\u001b[43m,\u001b[49m\u001b[43m \u001b[49m\u001b[33;43m\"\u001b[39;49m\u001b[33;43mrb\u001b[39;49m\u001b[33;43m\"\u001b[39;49m\u001b[43m)\u001b[49m \u001b[38;5;28;01mas\u001b[39;00m opened_file:\n\u001b[32m   1480\u001b[39m     \u001b[38;5;28;01mif\u001b[39;00m _is_zipfile(opened_file):\n\u001b[32m   1481\u001b[39m         \u001b[38;5;66;03m# The zipfile reader is going to advance the current file position.\u001b[39;00m\n\u001b[32m   1482\u001b[39m         \u001b[38;5;66;03m# If we want to actually tail call to torch.jit.load, we need to\u001b[39;00m\n\u001b[32m   1483\u001b[39m         \u001b[38;5;66;03m# reset back to the original position.\u001b[39;00m\n\u001b[32m   1484\u001b[39m         orig_position = opened_file.tell()\n",
      "\u001b[36mFile \u001b[39m\u001b[32m~/EPS-Impact-Case-AI-Nowcasting/.venv/lib/python3.12/site-packages/torch/serialization.py:759\u001b[39m, in \u001b[36m_open_file_like\u001b[39m\u001b[34m(name_or_buffer, mode)\u001b[39m\n\u001b[32m    757\u001b[39m \u001b[38;5;28;01mdef\u001b[39;00m\u001b[38;5;250m \u001b[39m\u001b[34m_open_file_like\u001b[39m(name_or_buffer: FileLike, mode: \u001b[38;5;28mstr\u001b[39m) -> _opener[IO[\u001b[38;5;28mbytes\u001b[39m]]:\n\u001b[32m    758\u001b[39m     \u001b[38;5;28;01mif\u001b[39;00m _is_path(name_or_buffer):\n\u001b[32m--> \u001b[39m\u001b[32m759\u001b[39m         \u001b[38;5;28;01mreturn\u001b[39;00m \u001b[43m_open_file\u001b[49m\u001b[43m(\u001b[49m\u001b[43mname_or_buffer\u001b[49m\u001b[43m,\u001b[49m\u001b[43m \u001b[49m\u001b[43mmode\u001b[49m\u001b[43m)\u001b[49m\n\u001b[32m    760\u001b[39m     \u001b[38;5;28;01melse\u001b[39;00m:\n\u001b[32m    761\u001b[39m         \u001b[38;5;28;01mif\u001b[39;00m \u001b[33m\"\u001b[39m\u001b[33mw\u001b[39m\u001b[33m\"\u001b[39m \u001b[38;5;129;01min\u001b[39;00m mode:\n",
      "\u001b[36mFile \u001b[39m\u001b[32m~/EPS-Impact-Case-AI-Nowcasting/.venv/lib/python3.12/site-packages/torch/serialization.py:740\u001b[39m, in \u001b[36m_open_file.__init__\u001b[39m\u001b[34m(self, name, mode)\u001b[39m\n\u001b[32m    739\u001b[39m \u001b[38;5;28;01mdef\u001b[39;00m\u001b[38;5;250m \u001b[39m\u001b[34m__init__\u001b[39m(\u001b[38;5;28mself\u001b[39m, name: Union[\u001b[38;5;28mstr\u001b[39m, os.PathLike[\u001b[38;5;28mstr\u001b[39m]], mode: \u001b[38;5;28mstr\u001b[39m) -> \u001b[38;5;28;01mNone\u001b[39;00m:\n\u001b[32m--> \u001b[39m\u001b[32m740\u001b[39m     \u001b[38;5;28msuper\u001b[39m().\u001b[34m__init__\u001b[39m(\u001b[38;5;28;43mopen\u001b[39;49m\u001b[43m(\u001b[49m\u001b[43mname\u001b[49m\u001b[43m,\u001b[49m\u001b[43m \u001b[49m\u001b[43mmode\u001b[49m\u001b[43m)\u001b[49m)\n",
      "\u001b[31mKeyboardInterrupt\u001b[39m: "
     ]
    }
   ],
   "source": [
    "import torch, os, numpy as np\n",
    "\n",
    "base = \"/gws/nopw/j04/wiser_ewsa/mrakotomanga/Intercomparison/raw\"\n",
    "inputs_dir = f\"{base}/inputs_t0\"\n",
    "targets_dir = f\"{base}/targets_t2\"\n",
    "\n",
    "bad = []\n",
    "for fname in os.listdir(inputs_dir):\n",
    "    if not fname.endswith(\".pt\"): continue\n",
    "    tname = fname.replace(\"input-\", \"target-\")\n",
    "    tpath = os.path.join(targets_dir, tname)\n",
    "    if not os.path.exists(tpath):\n",
    "        continue\n",
    "    try:\n",
    "        x = torch.load(os.path.join(inputs_dir, fname))[\"input_tensor\"].numpy()\n",
    "        y = torch.load(tpath)[\"data\"].numpy()\n",
    "        if x.shape != (288, 10) or y.shape != (350, 370):\n",
    "            bad.append(fname)\n",
    "    except Exception as e:\n",
    "        bad.append(fname)\n",
    "print(\"Bad samples:\", len(bad))\n",
    "print(bad[:20])"
   ]
  }
 ],
 "metadata": {
  "kernelspec": {
   "display_name": ".venv",
   "language": "python",
   "name": "python3"
  },
  "language_info": {
   "codemirror_mode": {
    "name": "ipython",
    "version": 3
   },
   "file_extension": ".py",
   "mimetype": "text/x-python",
   "name": "python",
   "nbconvert_exporter": "python",
   "pygments_lexer": "ipython3",
   "version": "3.12.2"
  }
 },
 "nbformat": 4,
 "nbformat_minor": 5
}
