{
 "cells": [
  {
   "cell_type": "code",
   "execution_count": 16,
   "id": "015c8be7",
   "metadata": {},
   "outputs": [],
   "source": [
    "import os\n",
    "import sys\n",
    "import torch\n",
    "import numpy as np\n",
    "from tqdm import tqdm"
   ]
  },
  {
   "cell_type": "code",
   "execution_count": null,
   "id": "94182ae3",
   "metadata": {},
   "outputs": [],
   "source": [
    "LEAD_TIME = sys.argv[1]\n",
    "PARTITION = sys.argv[2]\n",
    "\n",
    "BASE_DIR = \"/gws/nopw/j04/wiser_ewsa/mrakotomanga/Intercomparison\"\n",
    "\n",
    "RAW_INPUT_DIR  = f\"{BASE_DIR}/raw/inputs_t0\"\n",
    "RAW_TARGET_DIR = f\"{BASE_DIR}/raw/targets_t{LEAD_TIME}\"\n",
    "\n",
    "SPLIT_FILE = f\"{BASE_DIR}/splits/{PARTITION}_files.txt\"\n",
    "SHARDS_DIR = f\"{BASE_DIR}/shards/t{LEAD_TIME}/{PARTITION}_t{LEAD_TIME}\" \n",
    "\n",
    "os.makedirs(SHARDS_DIR, exist_ok=True)"
   ]
  },
  {
   "cell_type": "code",
   "execution_count": 18,
   "id": "5886997e",
   "metadata": {},
   "outputs": [],
   "source": [
    "with open(SPLIT_FILE) as f:\n",
    "    files = [line.strip() for line in f if line.strip()]"
   ]
  },
  {
   "cell_type": "code",
   "execution_count": null,
   "id": "f9e59e09",
   "metadata": {},
   "outputs": [],
   "source": [
    "FILES_PER_SHARD = 1000"
   ]
  },
  {
   "cell_type": "code",
   "execution_count": null,
   "id": "70747b11",
   "metadata": {},
   "outputs": [
    {
     "name": "stderr",
     "output_type": "stream",
     "text": [
      "Sharding inputs + targets:  60%|██████    | 12/20 [00:00<00:00, 15.71it/s]"
     ]
    },
    {
     "name": "stdout",
     "output_type": "stream",
     "text": [
      "Saved shard_000 (10 samples) → /gws/nopw/j04/wiser_ewsa/mrakotomanga/Intercomparison/shards/t1/train_t1/shard_000.pt\n"
     ]
    },
    {
     "name": "stderr",
     "output_type": "stream",
     "text": [
      "Sharding inputs + targets: 100%|██████████| 20/20 [00:01<00:00, 14.58it/s]"
     ]
    },
    {
     "name": "stdout",
     "output_type": "stream",
     "text": [
      "Saved shard_001 (10 samples) → /gws/nopw/j04/wiser_ewsa/mrakotomanga/Intercomparison/shards/t1/train_t1/shard_001.pt\n",
      "Finished creating TRAIN shards for LT1.\n"
     ]
    },
    {
     "name": "stderr",
     "output_type": "stream",
     "text": [
      "\n"
     ]
    }
   ],
   "source": [
    "shard_inputs, shard_globals, shard_targets, shard_ids = [], [], [], []\n",
    "shard_index = 0\n",
    "\n",
    "# Main loop\n",
    "for i, fpath in enumerate(tqdm(files[:], desc=\"Sharding inputs + targets\")):\n",
    "    try:\n",
    "        # Load input\n",
    "        data_in = torch.load(fpath, map_location=\"cpu\")\n",
    "        x = data_in[\"input_tensor\"].numpy()\n",
    "        g = data_in[\"global_context\"].numpy()\n",
    "        nowcast_id = data_in[\"nowcast_origin\"]\n",
    "\n",
    "        # Load target\n",
    "        fname = os.path.basename(fpath).replace(\"input-\", \"target-\")\n",
    "        target_path = os.path.join(RAW_TARGET_DIR, fname)\n",
    "        if not os.path.exists(target_path):\n",
    "            print(f\"Missing target file: {target_path}\")\n",
    "            continue\n",
    "\n",
    "        data_out = torch.load(target_path, map_location=\"cpu\")\n",
    "        y = data_out[\"data\"].numpy().astype(np.uint8)  # (350, 370)\n",
    "\n",
    "        # Append to buffers\n",
    "        shard_inputs.append(x)\n",
    "        shard_globals.append(g)\n",
    "        shard_targets.append(y)\n",
    "        shard_ids.append(nowcast_id)\n",
    "\n",
    "        # Save every N samples\n",
    "        if (i + 1) % FILES_PER_SHARD == 0 or (i + 1) == len(files):\n",
    "            shard_path = os.path.join(SHARDS_DIR, f\"shard_{shard_index:03d}.pt\")\n",
    "\n",
    "            torch.save({\n",
    "                \"X\": torch.tensor(np.stack(shard_inputs), dtype=torch.float32),\n",
    "                \"G\": torch.tensor(np.stack(shard_globals), dtype=torch.float32),\n",
    "                \"Y\": torch.tensor(np.stack(shard_targets), dtype=torch.uint8),\n",
    "                \"ID\": shard_ids\n",
    "            }, shard_path)\n",
    "\n",
    "            print(f\"Saved shard_{shard_index:03d} ({len(shard_inputs)} samples) → {shard_path}\")\n",
    "\n",
    "            # Reset buffers\n",
    "            shard_inputs, shard_globals, shard_targets, shard_ids = [], [], [], []\n",
    "            shard_index += 1\n",
    "\n",
    "    except Exception as e:\n",
    "        print(f\"Error processing {fpath}: {e}\")\n",
    "        continue\n",
    "\n",
    "print(f\"Finished creating {PARTITION.upper()} shards for LT{LEAD_TIME}.\")"
   ]
  }
 ],
 "metadata": {
  "kernelspec": {
   "display_name": ".venv",
   "language": "python",
   "name": "python3"
  },
  "language_info": {
   "codemirror_mode": {
    "name": "ipython",
    "version": 3
   },
   "file_extension": ".py",
   "mimetype": "text/x-python",
   "name": "python",
   "nbconvert_exporter": "python",
   "pygments_lexer": "ipython3",
   "version": "3.12.2"
  }
 },
 "nbformat": 4,
 "nbformat_minor": 5
}
