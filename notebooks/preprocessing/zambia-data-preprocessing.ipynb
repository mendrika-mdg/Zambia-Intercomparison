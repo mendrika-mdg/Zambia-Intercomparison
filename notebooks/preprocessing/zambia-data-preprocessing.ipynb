{
 "cells": [
  {
   "cell_type": "markdown",
   "id": "a6d7b376",
   "metadata": {},
   "source": [
    "# Packages"
   ]
  },
  {
   "cell_type": "code",
   "execution_count": 1,
   "id": "fe8e4969",
   "metadata": {},
   "outputs": [],
   "source": [
    "import os\n",
    "import sys\n",
    "import torch\n",
    "import numpy as np      \n",
    "from netCDF4 import Dataset  \n",
    "from scipy.ndimage import label\n",
    "from skimage.transform import resize\n",
    "from datetime import datetime, timedelta\n",
    "import matplotlib.pyplot as plt\n",
    "sys.path.insert(1, \"/home/users/mendrika/SSA/SA/module\")\n",
    "import snflics\n",
    "import matplotlib.pyplot as plt\n",
    "import numpy as np"
   ]
  },
  {
   "cell_type": "markdown",
   "id": "6f18f09d",
   "metadata": {},
   "source": [
    "# Some paths"
   ]
  },
  {
   "cell_type": "code",
   "execution_count": 9,
   "id": "ab84737b",
   "metadata": {},
   "outputs": [],
   "source": [
    "raw_data_path = \"/gws/nopw/j04/wiser_ewsa/mrakotomanga/Intercomparison/raw\"\n",
    "raw_input_path = f\"{raw_data_path}/inputs_t0\""
   ]
  },
  {
   "cell_type": "code",
   "execution_count": 10,
   "id": "ae63f38b",
   "metadata": {},
   "outputs": [],
   "source": [
    "all_raw_inputs = snflics.all_files_in(raw_input_path)"
   ]
  },
  {
   "cell_type": "code",
   "execution_count": 11,
   "id": "a8eac1b4",
   "metadata": {},
   "outputs": [
    {
     "data": {
      "text/plain": [
       "144473"
      ]
     },
     "execution_count": 11,
     "metadata": {},
     "output_type": "execute_result"
    }
   ],
   "source": [
    "len(all_raw_inputs)"
   ]
  },
  {
   "cell_type": "markdown",
   "id": "a8a34b28",
   "metadata": {},
   "source": [
    "# Choose a particular file"
   ]
  },
  {
   "cell_type": "code",
   "execution_count": 4,
   "id": "5cf5fe1b",
   "metadata": {},
   "outputs": [],
   "source": [
    "year = \"2021\"\n",
    "month = \"01\"\n",
    "day = \"22\"\n",
    "hour = \"17\"\n",
    "minute = \"00\""
   ]
  },
  {
   "cell_type": "code",
   "execution_count": 6,
   "id": "99c8f7fc",
   "metadata": {},
   "outputs": [],
   "source": [
    "t_0 = f\"{year}{month}{day}_{hour}{minute}.pt\"\n",
    "\n",
    "lead_time = 0"
   ]
  },
  {
   "cell_type": "code",
   "execution_count": 7,
   "id": "38d64e75",
   "metadata": {},
   "outputs": [
    {
     "ename": "NameError",
     "evalue": "name 'data_path' is not defined",
     "output_type": "error",
     "traceback": [
      "\u001b[31m---------------------------------------------------------------------------\u001b[39m",
      "\u001b[31mNameError\u001b[39m                                 Traceback (most recent call last)",
      "\u001b[36mCell\u001b[39m\u001b[36m \u001b[39m\u001b[32mIn[7]\u001b[39m\u001b[32m, line 1\u001b[39m\n\u001b[32m----> \u001b[39m\u001b[32m1\u001b[39m input_filename = \u001b[33mf\u001b[39m\u001b[33m\"\u001b[39m\u001b[38;5;132;01m{\u001b[39;00m\u001b[43mdata_path\u001b[49m\u001b[38;5;132;01m}\u001b[39;00m\u001b[33m/inputs_t0/input-\u001b[39m\u001b[38;5;132;01m{\u001b[39;00mt_0\u001b[38;5;132;01m}\u001b[39;00m\u001b[33m\"\u001b[39m\n\u001b[32m      3\u001b[39m output_filename = \u001b[33mf\u001b[39m\u001b[33m\"\u001b[39m\u001b[38;5;132;01m{\u001b[39;00mdata_path\u001b[38;5;132;01m}\u001b[39;00m\u001b[33m/targets_t\u001b[39m\u001b[38;5;132;01m{\u001b[39;00mlead_time\u001b[38;5;132;01m}\u001b[39;00m\u001b[33m/target-\u001b[39m\u001b[38;5;132;01m{\u001b[39;00mt_0\u001b[38;5;132;01m}\u001b[39;00m\u001b[33m\"\u001b[39m\n",
      "\u001b[31mNameError\u001b[39m: name 'data_path' is not defined"
     ]
    }
   ],
   "source": [
    "input_filename = f\"{data_path}/inputs_t0/input-{t_0}\"\n",
    "\n",
    "output_filename = f\"{data_path}/targets_t{lead_time}/target-{t_0}\""
   ]
  },
  {
   "cell_type": "code",
   "execution_count": null,
   "id": "b4bcbd72",
   "metadata": {},
   "outputs": [
    {
     "ename": "",
     "evalue": "",
     "output_type": "error",
     "traceback": [
      "\u001b[1;31mnotebook controller is DISPOSED. \n",
      "\u001b[1;31mView Jupyter <a href='command:jupyter.viewOutput'>log</a> for further details."
     ]
    },
    {
     "ename": "",
     "evalue": "",
     "output_type": "error",
     "traceback": [
      "\u001b[1;31mnotebook controller is DISPOSED. \n",
      "\u001b[1;31mView Jupyter <a href='command:jupyter.viewOutput'>log</a> for further details."
     ]
    },
    {
     "ename": "",
     "evalue": "",
     "output_type": "error",
     "traceback": [
      "\u001b[1;31mnotebook controller is DISPOSED. \n",
      "\u001b[1;31mView Jupyter <a href='command:jupyter.viewOutput'>log</a> for further details."
     ]
    }
   ],
   "source": [
    "input_data = torch.load(input_filename)[\"input_tensor\"]\n",
    "input_time = torch.load(input_filename)[\"nowcast_origin\"]"
   ]
  },
  {
   "cell_type": "code",
   "execution_count": null,
   "id": "ef7da79e",
   "metadata": {},
   "outputs": [
    {
     "ename": "",
     "evalue": "",
     "output_type": "error",
     "traceback": [
      "\u001b[1;31mnotebook controller is DISPOSED. \n",
      "\u001b[1;31mView Jupyter <a href='command:jupyter.viewOutput'>log</a> for further details."
     ]
    },
    {
     "ename": "",
     "evalue": "",
     "output_type": "error",
     "traceback": [
      "\u001b[1;31mnotebook controller is DISPOSED. \n",
      "\u001b[1;31mView Jupyter <a href='command:jupyter.viewOutput'>log</a> for further details."
     ]
    },
    {
     "ename": "",
     "evalue": "",
     "output_type": "error",
     "traceback": [
      "\u001b[1;31mnotebook controller is DISPOSED. \n",
      "\u001b[1;31mView Jupyter <a href='command:jupyter.viewOutput'>log</a> for further details."
     ]
    }
   ],
   "source": [
    "output_data = torch.load(output_filename)[\"data\"].numpy()"
   ]
  },
  {
   "cell_type": "markdown",
   "id": "59c95906",
   "metadata": {},
   "source": [
    "# Number of observed cores at time $t_0$"
   ]
  },
  {
   "cell_type": "code",
   "execution_count": null,
   "id": "4af04414",
   "metadata": {},
   "outputs": [
    {
     "name": "stdout",
     "output_type": "stream",
     "text": [
      "Time lag   0 min →  6 real cores, 90 padded\n",
      "Time lag  60 min →  8 real cores, 88 padded\n",
      "Time lag 120 min →  5 real cores, 91 padded\n"
     ]
    },
    {
     "ename": "",
     "evalue": "",
     "output_type": "error",
     "traceback": [
      "\u001b[1;31mnotebook controller is DISPOSED. \n",
      "\u001b[1;31mView Jupyter <a href='command:jupyter.viewOutput'>log</a> for further details."
     ]
    },
    {
     "ename": "",
     "evalue": "",
     "output_type": "error",
     "traceback": [
      "\u001b[1;31mnotebook controller is DISPOSED. \n",
      "\u001b[1;31mView Jupyter <a href='command:jupyter.viewOutput'>log</a> for further details."
     ]
    },
    {
     "ename": "",
     "evalue": "",
     "output_type": "error",
     "traceback": [
      "\u001b[1;31mnotebook controller is DISPOSED. \n",
      "\u001b[1;31mView Jupyter <a href='command:jupyter.viewOutput'>log</a> for further details."
     ]
    }
   ],
   "source": [
    "# Assuming input_data has shape (288, 10)\n",
    "# 3 time steps × 96 cores each\n",
    "\n",
    "lags = [0, 60, 120]  # minutes\n",
    "for i, lag in enumerate(lags):\n",
    "    start = i * 96\n",
    "    end = (i + 1) * 96\n",
    "    n_real = torch.sum(input_data[start:end, -2] == 1).item()\n",
    "    print(f\"Time lag {lag:>3} min → {n_real:2d} real cores, {96 - n_real:2d} padded\")"
   ]
  },
  {
   "cell_type": "code",
   "execution_count": null,
   "id": "05aff3a5",
   "metadata": {},
   "outputs": [
    {
     "ename": "",
     "evalue": "",
     "output_type": "error",
     "traceback": [
      "\u001b[1;31mnotebook controller is DISPOSED. \n",
      "\u001b[1;31mView Jupyter <a href='command:jupyter.viewOutput'>log</a> for further details."
     ]
    },
    {
     "ename": "",
     "evalue": "",
     "output_type": "error",
     "traceback": [
      "\u001b[1;31mnotebook controller is DISPOSED. \n",
      "\u001b[1;31mView Jupyter <a href='command:jupyter.viewOutput'>log</a> for further details."
     ]
    },
    {
     "ename": "",
     "evalue": "",
     "output_type": "error",
     "traceback": [
      "\u001b[1;31mnotebook controller is DISPOSED. \n",
      "\u001b[1;31mView Jupyter <a href='command:jupyter.viewOutput'>log</a> for further details."
     ]
    }
   ],
   "source": [
    "# Extract block for lag 0\n",
    "start, end = 0, 96\n",
    "block = input_data[start:end]\n",
    "\n",
    "# Select real cores\n",
    "real_mask = block[:, -2] == 1\n",
    "x0_lats = block[real_mask][:, 0].numpy()\n",
    "x0_lons = block[real_mask][:, 1].numpy()"
   ]
  }
 ],
 "metadata": {
  "kernelspec": {
   "display_name": ".venv",
   "language": "python",
   "name": "python3"
  },
  "language_info": {
   "codemirror_mode": {
    "name": "ipython",
    "version": 3
   },
   "file_extension": ".py",
   "mimetype": "text/x-python",
   "name": "python",
   "nbconvert_exporter": "python",
   "pygments_lexer": "ipython3",
   "version": "3.12.2"
  }
 },
 "nbformat": 4,
 "nbformat_minor": 5
}
