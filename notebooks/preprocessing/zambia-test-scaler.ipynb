{
 "cells": [
  {
   "cell_type": "code",
   "execution_count": 1,
   "id": "eabd47e2",
   "metadata": {},
   "outputs": [],
   "source": [
    "import torch\n",
    "import numpy as np\n",
    "\n",
    "BASE_DIR = \"/gws/nopw/j04/wiser_ewsa/mrakotomanga/Intercomparison\"\n",
    "scaler_path = f\"{BASE_DIR}/scaling/scaler_realcores.pt\""
   ]
  },
  {
   "cell_type": "code",
   "execution_count": 3,
   "id": "5b459efb",
   "metadata": {},
   "outputs": [
    {
     "name": "stdout",
     "output_type": "stream",
     "text": [
      "Scaler loaded successfully.\n",
      "Processed real cores: 2,539,380\n",
      "\n"
     ]
    }
   ],
   "source": [
    "scaler = torch.load(scaler_path, weights_only=False)\n",
    "\n",
    "print(\"Scaler loaded successfully.\")\n",
    "print(f\"Processed real cores: {scaler['n_real_cores']:,}\\n\")"
   ]
  },
  {
   "cell_type": "code",
   "execution_count": 5,
   "id": "9cb83b61",
   "metadata": {},
   "outputs": [],
   "source": [
    "# Feature layout reminder:\n",
    "#  0 lat, 1 lon, 2 lat_min, 3 lat_max,\n",
    "#  4 lon_min, 5 lon_max, 6 tir, 7 size,\n",
    "#  8 mask, 9 lag"
   ]
  },
  {
   "cell_type": "code",
   "execution_count": 4,
   "id": "93a60296",
   "metadata": {},
   "outputs": [
    {
     "name": "stdout",
     "output_type": "stream",
     "text": [
      "Scaled columns: [0, 1, 2, 3, 4, 5, 6, 7]\n",
      "\n",
      "Feature statistics:\n",
      "  Column  0 → mean=  -13.1574, std=    2.8658\n",
      "  Column  1 → mean=   27.7910, std=    3.5647\n",
      "  Column  2 → mean=  -13.3247, std=    2.8798\n",
      "  Column  3 → mean=  -12.9692, std=    2.8544\n",
      "  Column  4 → mean=   27.5659, std=    3.5612\n",
      "  Column  5 → mean=   27.9836, std=    3.5668\n",
      "  Column  6 → mean=  -76.5467, std=    4.1023\n",
      "  Column  7 → mean= 1474.1084, std= 2669.5387\n",
      "\n",
      "All features have non-zero variance — looks good.\n"
     ]
    }
   ],
   "source": [
    "\n",
    "# Load saved scaler\n",
    "mean = np.array(scaler[\"mean\"])\n",
    "scale = np.array(scaler[\"scale\"])\n",
    "cols  = scaler[\"cols\"]\n",
    "\n",
    "print(\"Scaled columns:\", cols)\n",
    "print(\"\\nFeature statistics:\")\n",
    "for i, c in enumerate(cols):\n",
    "    print(f\"  Column {c:>2d} → mean={mean[i]:>10.4f}, std={scale[i]:>10.4f}\")\n",
    "\n",
    "# Quick sanity check\n",
    "if np.any(scale == 0):\n",
    "    print(\"\\nWarning: Zero standard deviation detected — check constant feature(s).\")\n",
    "else:\n",
    "    print(\"\\nAll features have non-zero variance — looks good.\")"
   ]
  }
 ],
 "metadata": {
  "kernelspec": {
   "display_name": ".venv",
   "language": "python",
   "name": "python3"
  },
  "language_info": {
   "codemirror_mode": {
    "name": "ipython",
    "version": 3
   },
   "file_extension": ".py",
   "mimetype": "text/x-python",
   "name": "python",
   "nbconvert_exporter": "python",
   "pygments_lexer": "ipython3",
   "version": "3.12.2"
  }
 },
 "nbformat": 4,
 "nbformat_minor": 5
}
