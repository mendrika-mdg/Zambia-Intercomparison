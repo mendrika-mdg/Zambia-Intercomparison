{
 "cells": [
  {
   "cell_type": "markdown",
   "id": "a6d7b376",
   "metadata": {},
   "source": [
    "# Packages"
   ]
  },
  {
   "cell_type": "code",
   "execution_count": null,
   "id": "fe8e4969",
   "metadata": {},
   "outputs": [],
   "source": [
    "import os\n",
    "import sys\n",
    "import torch\n",
    "import numpy as np      \n",
    "from netCDF4 import Dataset  \n",
    "from scipy.ndimage import label\n",
    "from skimage.transform import resize\n",
    "from datetime import datetime, timedelta\n",
    "\n",
    "sys.path.insert(1, \"/home/users/mendrika/SSA/SA/module\")\n",
    "import snflics"
   ]
  },
  {
   "cell_type": "markdown",
   "id": "801662aa",
   "metadata": {},
   "source": [
    "# Subroutines"
   ]
  },
  {
   "cell_type": "code",
   "execution_count": 2,
   "id": "e63b6977",
   "metadata": {},
   "outputs": [],
   "source": [
    "def prepare_core(file):\n",
    "\n",
    "    if not os.path.exists(file):\n",
    "        raise FileNotFoundError(f\"The file '{file}' does not exist.\")\n",
    "    try:\n",
    "        # using a context manager to ensure proper file closure\n",
    "        with Dataset(file, \"r\") as data:\n",
    "            cores = data.variables[\"cores\"][0, :, :]\n",
    "    except OSError as e:\n",
    "        raise OSError(f\"Error opening NetCDF file: {file}. {e}\")\n",
    "\n",
    "    return cores"
   ]
  },
  {
   "cell_type": "code",
   "execution_count": 3,
   "id": "2548a00c",
   "metadata": {},
   "outputs": [],
   "source": [
    "def update_hour(date_dict, hours_to_add, minutes_to_add):\n",
    "    \"\"\"\n",
    "    Add hours and minutes to a datetime dictionary and return the updated dict and a generated file path.\n",
    "\n",
    "    Args:\n",
    "        date_dict     (dict): Keys: 'year', 'month', 'day', 'hour', 'minute' as strings, e.g. \"01\", \"23\"\n",
    "        hours_to_add   (int): Number of hours to add.\n",
    "        minutes_to_add (int): Number of minutes to add.\n",
    "\n",
    "    Returns:\n",
    "        tuple:\n",
    "            - dict: Updated datetime dictionary with all fields as zero-padded strings.\n",
    "            - str: File path in the format YYYY/MM/YYYYMMDDHHMM.nc\n",
    "    \"\"\"\n",
    "    # Parse the original time\n",
    "    time_obj = datetime(\n",
    "        int(date_dict[\"year\"]),\n",
    "        int(date_dict[\"month\"]),\n",
    "        int(date_dict[\"day\"]),\n",
    "        int(date_dict[\"hour\"]),\n",
    "        int(date_dict[\"minute\"])\n",
    "    )\n",
    "\n",
    "    # Add hours\n",
    "    updated = time_obj + timedelta(hours=hours_to_add, minutes=minutes_to_add)\n",
    "\n",
    "    # Format updated dictionary\n",
    "    new_date_dict = {\n",
    "        \"year\":   f\"{updated.year:04d}\",\n",
    "        \"month\":  f\"{updated.month:02d}\",\n",
    "        \"day\":    f\"{updated.day:02d}\",\n",
    "        \"hour\":   f\"{updated.hour:02d}\",\n",
    "        \"minute\": f\"{updated.minute:02d}\"\n",
    "    }\n",
    "\n",
    "    # Generate file path\n",
    "    file_path = f\"{new_date_dict['year']}/{new_date_dict['month']}/{new_date_dict['year']}{new_date_dict['month']}{new_date_dict['day']}{new_date_dict['hour']}{new_date_dict['minute']}.nc\"\n",
    "\n",
    "\n",
    "    return {'time': new_date_dict, 'path': file_path}"
   ]
  }
 ],
 "metadata": {
  "kernelspec": {
   "display_name": ".venv",
   "language": "python",
   "name": "python3"
  },
  "language_info": {
   "codemirror_mode": {
    "name": "ipython",
    "version": 3
   },
   "file_extension": ".py",
   "mimetype": "text/x-python",
   "name": "python",
   "nbconvert_exporter": "python",
   "pygments_lexer": "ipython3",
   "version": "3.12.2"
  }
 },
 "nbformat": 4,
 "nbformat_minor": 5
}
