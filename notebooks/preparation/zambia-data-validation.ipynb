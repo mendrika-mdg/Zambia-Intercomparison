{
 "cells": [
  {
   "cell_type": "markdown",
   "id": "a6d7b376",
   "metadata": {},
   "source": [
    "# Packages"
   ]
  },
  {
   "cell_type": "code",
   "execution_count": 53,
   "id": "fe8e4969",
   "metadata": {},
   "outputs": [],
   "source": [
    "import os\n",
    "import sys\n",
    "import torch\n",
    "import numpy as np      \n",
    "from netCDF4 import Dataset  \n",
    "from scipy.ndimage import label\n",
    "from skimage.transform import resize\n",
    "from datetime import datetime, timedelta\n",
    "import matplotlib.pyplot as plt\n",
    "sys.path.insert(1, \"/home/users/mendrika/SSA/SA/module\")\n",
    "import snflics\n",
    "\n",
    "import matplotlib.pyplot as plt\n",
    "import cartopy.crs as ccrs\n",
    "import cartopy.feature as cfeature\n",
    "import cartopy.io.shapereader as shpreader\n",
    "import numpy as np"
   ]
  },
  {
   "cell_type": "markdown",
   "id": "f3fc0a07",
   "metadata": {},
   "source": [
    "# These are specific to Zambia"
   ]
  },
  {
   "cell_type": "code",
   "execution_count": null,
   "id": "e679d344",
   "metadata": {},
   "outputs": [
    {
     "ename": "",
     "evalue": "",
     "output_type": "error",
     "traceback": [
      "\u001b[1;31mnotebook controller is DISPOSED. \n",
      "\u001b[1;31mView Jupyter <a href='command:jupyter.viewOutput'>log</a> for further details."
     ]
    }
   ],
   "source": [
    "y_min, y_max = 580, 930\n",
    "x_min, x_max = 1480, 1850"
   ]
  },
  {
   "cell_type": "markdown",
   "id": "bdc6be61",
   "metadata": {},
   "source": [
    "# Crop geo coordinates"
   ]
  },
  {
   "cell_type": "code",
   "execution_count": null,
   "id": "ea96ac5c",
   "metadata": {},
   "outputs": [
    {
     "ename": "",
     "evalue": "",
     "output_type": "error",
     "traceback": [
      "\u001b[1;31mnotebook controller is DISPOSED. \n",
      "\u001b[1;31mView Jupyter <a href='command:jupyter.viewOutput'>log</a> for further details."
     ]
    }
   ],
   "source": [
    "geodata = np.load(\"/gws/nopw/j04/cocoon/SSA_domain/lat_lon_2268_2080.npz\")\n",
    "lons = geodata[\"lon\"][y_min:y_max, x_min:x_max]\n",
    "lats = geodata[\"lat\"][y_min:y_max, x_min:x_max]"
   ]
  },
  {
   "cell_type": "code",
   "execution_count": null,
   "id": "300eb384",
   "metadata": {},
   "outputs": [
    {
     "ename": "",
     "evalue": "",
     "output_type": "error",
     "traceback": [
      "\u001b[1;31mnotebook controller is DISPOSED. \n",
      "\u001b[1;31mView Jupyter <a href='command:jupyter.viewOutput'>log</a> for further details."
     ]
    }
   ],
   "source": [
    "CONTEXT_LAT_MIN = np.min(lats)\n",
    "CONTEXT_LAT_MAX = np.max(lats)\n",
    "CONTEXT_LON_MIN = np.min(lons)\n",
    "CONTEXT_LON_MAX = np.max(lons)"
   ]
  },
  {
   "cell_type": "code",
   "execution_count": null,
   "id": "44facdb7",
   "metadata": {},
   "outputs": [
    {
     "name": "stdout",
     "output_type": "stream",
     "text": [
      "-18.414806 -7.9918404 21.167515 35.316326\n"
     ]
    },
    {
     "ename": "",
     "evalue": "",
     "output_type": "error",
     "traceback": [
      "\u001b[1;31mnotebook controller is DISPOSED. \n",
      "\u001b[1;31mView Jupyter <a href='command:jupyter.viewOutput'>log</a> for further details."
     ]
    }
   ],
   "source": [
    "print(CONTEXT_LAT_MIN, CONTEXT_LAT_MAX, CONTEXT_LON_MIN, CONTEXT_LON_MAX)"
   ]
  },
  {
   "cell_type": "code",
   "execution_count": null,
   "id": "f7f57d09",
   "metadata": {},
   "outputs": [
    {
     "data": {
      "text/plain": [
       "(350, 370)"
      ]
     },
     "execution_count": 31,
     "metadata": {},
     "output_type": "execute_result"
    },
    {
     "ename": "",
     "evalue": "",
     "output_type": "error",
     "traceback": [
      "\u001b[1;31mnotebook controller is DISPOSED. \n",
      "\u001b[1;31mView Jupyter <a href='command:jupyter.viewOutput'>log</a> for further details."
     ]
    }
   ],
   "source": [
    "lons.shape"
   ]
  },
  {
   "cell_type": "markdown",
   "id": "bc9fb55c",
   "metadata": {},
   "source": [
    "# Choose a file"
   ]
  },
  {
   "cell_type": "code",
   "execution_count": null,
   "id": "ab84737b",
   "metadata": {},
   "outputs": [
    {
     "ename": "",
     "evalue": "",
     "output_type": "error",
     "traceback": [
      "\u001b[1;31mnotebook controller is DISPOSED. \n",
      "\u001b[1;31mView Jupyter <a href='command:jupyter.viewOutput'>log</a> for further details."
     ]
    }
   ],
   "source": [
    "data_path = \"/gws/nopw/j04/wiser_ewsa/mrakotomanga/Intercomparison/raw\""
   ]
  },
  {
   "cell_type": "code",
   "execution_count": null,
   "id": "5cf5fe1b",
   "metadata": {},
   "outputs": [
    {
     "ename": "",
     "evalue": "",
     "output_type": "error",
     "traceback": [
      "\u001b[1;31mnotebook controller is DISPOSED. \n",
      "\u001b[1;31mView Jupyter <a href='command:jupyter.viewOutput'>log</a> for further details."
     ]
    }
   ],
   "source": [
    "year = \"2021\"\n",
    "month = \"01\"\n",
    "day = \"22\"\n",
    "hour = \"16\"\n",
    "minute = \"00\""
   ]
  },
  {
   "cell_type": "code",
   "execution_count": null,
   "id": "99c8f7fc",
   "metadata": {},
   "outputs": [
    {
     "ename": "",
     "evalue": "",
     "output_type": "error",
     "traceback": [
      "\u001b[1;31mnotebook controller is DISPOSED. \n",
      "\u001b[1;31mView Jupyter <a href='command:jupyter.viewOutput'>log</a> for further details."
     ]
    }
   ],
   "source": [
    "t_0 = f\"{year}{month}{day}_{hour}{minute}.pt\"\n",
    "\n",
    "lead_time = 0"
   ]
  },
  {
   "cell_type": "code",
   "execution_count": null,
   "id": "38d64e75",
   "metadata": {},
   "outputs": [
    {
     "ename": "",
     "evalue": "",
     "output_type": "error",
     "traceback": [
      "\u001b[1;31mnotebook controller is DISPOSED. \n",
      "\u001b[1;31mView Jupyter <a href='command:jupyter.viewOutput'>log</a> for further details."
     ]
    }
   ],
   "source": [
    "input_filename = f\"{data_path}/inputs_t0/input-{t_0}\"\n",
    "\n",
    "output_filename = f\"{data_path}/targets_t{lead_time}/target-{t_0}\""
   ]
  },
  {
   "cell_type": "code",
   "execution_count": null,
   "id": "b4bcbd72",
   "metadata": {},
   "outputs": [
    {
     "ename": "",
     "evalue": "",
     "output_type": "error",
     "traceback": [
      "\u001b[1;31mnotebook controller is DISPOSED. \n",
      "\u001b[1;31mView Jupyter <a href='command:jupyter.viewOutput'>log</a> for further details."
     ]
    }
   ],
   "source": [
    "input_data = torch.load(input_filename)[\"input_tensor\"]\n",
    "input_time = torch.load(input_filename)[\"nowcast_origin\"]"
   ]
  },
  {
   "cell_type": "code",
   "execution_count": null,
   "id": "ef7da79e",
   "metadata": {},
   "outputs": [
    {
     "ename": "",
     "evalue": "",
     "output_type": "error",
     "traceback": [
      "\u001b[1;31mnotebook controller is DISPOSED. \n",
      "\u001b[1;31mView Jupyter <a href='command:jupyter.viewOutput'>log</a> for further details."
     ]
    }
   ],
   "source": [
    "output_data = torch.load(output_filename)[\"data\"].numpy()"
   ]
  },
  {
   "cell_type": "code",
   "execution_count": null,
   "id": "d13b748a",
   "metadata": {},
   "outputs": [
    {
     "data": {
      "text/plain": [
       "(350, 370)"
      ]
     },
     "execution_count": 38,
     "metadata": {},
     "output_type": "execute_result"
    },
    {
     "ename": "",
     "evalue": "",
     "output_type": "error",
     "traceback": [
      "\u001b[1;31mnotebook controller is DISPOSED. \n",
      "\u001b[1;31mView Jupyter <a href='command:jupyter.viewOutput'>log</a> for further details."
     ]
    }
   ],
   "source": [
    "output_data.shape"
   ]
  },
  {
   "cell_type": "markdown",
   "id": "59c95906",
   "metadata": {},
   "source": [
    "# Number of observed cores at time $t_0$"
   ]
  },
  {
   "cell_type": "code",
   "execution_count": null,
   "id": "4af04414",
   "metadata": {},
   "outputs": [
    {
     "name": "stdout",
     "output_type": "stream",
     "text": [
      "Time lag   0 min →  8 real cores, 88 padded\n",
      "Time lag  60 min →  5 real cores, 91 padded\n",
      "Time lag 120 min →  7 real cores, 89 padded\n"
     ]
    },
    {
     "ename": "",
     "evalue": "",
     "output_type": "error",
     "traceback": [
      "\u001b[1;31mnotebook controller is DISPOSED. \n",
      "\u001b[1;31mView Jupyter <a href='command:jupyter.viewOutput'>log</a> for further details."
     ]
    }
   ],
   "source": [
    "# Assuming input_data has shape (288, 10)\n",
    "# 3 time steps × 96 cores each\n",
    "\n",
    "lags = [0, 60, 120]  # minutes\n",
    "for i, lag in enumerate(lags):\n",
    "    start = i * 96\n",
    "    end = (i + 1) * 96\n",
    "    n_real = torch.sum(input_data[start:end, -2] == 1).item()\n",
    "    print(f\"Time lag {lag:>3} min → {n_real:2d} real cores, {96 - n_real:2d} padded\")"
   ]
  },
  {
   "cell_type": "code",
   "execution_count": null,
   "id": "05aff3a5",
   "metadata": {},
   "outputs": [
    {
     "ename": "",
     "evalue": "",
     "output_type": "error",
     "traceback": [
      "\u001b[1;31mnotebook controller is DISPOSED. \n",
      "\u001b[1;31mView Jupyter <a href='command:jupyter.viewOutput'>log</a> for further details."
     ]
    }
   ],
   "source": [
    "# Extract block for lag 0\n",
    "start, end = 0, 96\n",
    "block = input_data[start:end]\n",
    "\n",
    "# Select only real (non-padded) cores\n",
    "real_mask = block[:, -2] == 1\n",
    "real_cores = block[real_mask]\n",
    "\n",
    "# Extract features\n",
    "x0_lats  = real_cores[:, 0].numpy()\n",
    "x0_lons  = real_cores[:, 1].numpy()\n",
    "lat_mins = real_cores[:, 2].numpy()\n",
    "lat_maxs = real_cores[:, 3].numpy()\n",
    "lon_mins = real_cores[:, 4].numpy()\n",
    "lon_maxs = real_cores[:, 5].numpy()"
   ]
  },
  {
   "cell_type": "markdown",
   "id": "e86bcc66",
   "metadata": {},
   "source": [
    "# Plot target"
   ]
  },
  {
   "cell_type": "code",
   "execution_count": null,
   "id": "fa67f7b1",
   "metadata": {},
   "outputs": [
    {
     "ename": "",
     "evalue": "",
     "output_type": "error",
     "traceback": [
      "\u001b[1;31mnotebook controller is DISPOSED. \n",
      "\u001b[1;31mView Jupyter <a href='command:jupyter.viewOutput'>log</a> for further details."
     ]
    }
   ],
   "source": [
    "locations = {\n",
    "    \"Lusaka\": [-15.3875, 28.3228],\n",
    "    \"Ndola\": [-12.9683, 28.6366],\n",
    "    \"Kasama\": [-10.2129, 31.1808],\n",
    "    \"Chinsali\": [-10.5500, 32.0667],\n",
    "    \"Kabwe\": [-14.4469, 28.4464],\n",
    "    \"Livingstone\": [-17.8419, 25.8542],\n",
    "    \"Mongu\": [-15.2484, 23.1274],\n",
    "    \"Mansa\": [-11.1996, 28.8943],\n",
    "    \"Solwezi\": [-12.1722, 26.3981],\n",
    "    \"Chipata\": [-13.6339, 32.6508]\n",
    "}"
   ]
  },
  {
   "cell_type": "code",
   "execution_count": null,
   "id": "cf34c988",
   "metadata": {},
   "outputs": [
    {
     "data": {
      "image/png": "[encoded data removed]",
      "text/plain": [
       "<Figure size 800x1000 with 1 Axes>"
      ]
     },
     "metadata": {},
     "output_type": "display_data"
    },
    {
     "ename": "",
     "evalue": "",
     "output_type": "error",
     "traceback": [
      "\u001b[1;31mnotebook controller is DISPOSED. \n",
      "\u001b[1;31mView Jupyter <a href='command:jupyter.viewOutput'>log</a> for further details."
     ]
    }
   ],
   "source": [
    "# Create figure and axis\n",
    "fig = plt.figure(figsize=(8, 10))\n",
    "ax = plt.axes(projection=ccrs.PlateCarree())\n",
    "\n",
    "# Set tight extent around Zambia\n",
    "ax.set_extent([CONTEXT_LON_MIN, CONTEXT_LON_MAX, CONTEXT_LAT_MIN, CONTEXT_LAT_MAX], crs=ccrs.PlateCarree())\n",
    "\n",
    "# Base features (no fill to keep transparency)\n",
    "ax.add_feature(cfeature.LAND, facecolor='none', edgecolor='black', zorder=0)\n",
    "ax.add_feature(cfeature.OCEAN, facecolor='none', zorder=0)\n",
    "ax.add_feature(cfeature.COASTLINE, edgecolor='black', linewidth=0.5, zorder=1)\n",
    "ax.add_feature(cfeature.BORDERS, edgecolor='black', linewidth=0.5, zorder=1)\n",
    "\n",
    "# Load Natural Earth country boundaries\n",
    "shapename = 'admin_0_countries'\n",
    "countries_shp = shpreader.natural_earth(resolution='10m', category='cultural', name=shapename)\n",
    "\n",
    "# Plot Zambia outline only\n",
    "for country in shpreader.Reader(countries_shp).records():\n",
    "    if country.attributes['ADMIN'] == 'Zambia':\n",
    "        ax.add_geometries([country.geometry], ccrs.PlateCarree(),\n",
    "                          facecolor='none', edgecolor='black', linewidth=1.2, zorder=2)\n",
    "\n",
    "# Plot city markers\n",
    "for name, (lat, lon) in locations.items():\n",
    "    ax.plot(lon, lat, marker=\"^\", color=\"black\", markersize=5,\n",
    "            transform=ccrs.PlateCarree(), zorder=3)\n",
    "    ax.text(lon + 0.15, lat + 0.15, name, fontsize=8,\n",
    "            transform=ccrs.PlateCarree(), ha='left', va='bottom', color='black', zorder=4)\n",
    "\n",
    "# Gridlines\n",
    "gl = ax.gridlines(draw_labels=True, alpha=1, linestyle='--', linewidth=0.5)\n",
    "gl.top_labels = False\n",
    "gl.right_labels = False\n",
    "\n",
    "# --- Plot the binary storm core mask ---\n",
    "masked_output = np.ma.masked_where(output_data == 0, output_data)\n",
    "\n",
    "contour_core = ax.pcolormesh(\n",
    "    lons, lats, masked_output,\n",
    "    transform=ccrs.PlateCarree(),\n",
    "    cmap=plt.cm.Reds,\n",
    "    vmin=0, vmax=1,\n",
    "    alpha=0.7,\n",
    "    zorder=2\n",
    ")\n",
    "\n",
    "# --- Scatter real cores (lag 0) ---\n",
    "ax.scatter(\n",
    "    x0_lons, x0_lats,\n",
    "    s=40, color=\"blue\", edgecolor=\"black\",\n",
    "    transform=ccrs.PlateCarree(),\n",
    "    label=\"Lag 0 real cores\", zorder=3\n",
    ")\n",
    "\n",
    "# --- Draw rectangles for each core extent ---\n",
    "from matplotlib.patches import Rectangle\n",
    "\n",
    "for lon_min, lon_max, lat_min, lat_max in zip(lon_mins, lon_maxs, lat_mins, lat_maxs):\n",
    "    width = lon_max - lon_min\n",
    "    height = lat_max - lat_min\n",
    "    rect = Rectangle(\n",
    "        (lon_min, lat_min),\n",
    "        width,\n",
    "        height,\n",
    "        linewidth=1,\n",
    "        edgecolor=\"blue\",\n",
    "        facecolor=\"none\",\n",
    "        linestyle=\"--\",\n",
    "        transform=ccrs.PlateCarree(),\n",
    "        zorder=4\n",
    "    )\n",
    "    ax.add_patch(rect)\n",
    "\n",
    "plt.tight_layout()\n",
    "plt.show()\n"
   ]
  },
  {
   "cell_type": "code",
   "execution_count": null,
   "id": "cf90a5b5",
   "metadata": {},
   "outputs": [
    {
     "data": {
      "text/plain": [
       "(350, 370)"
      ]
     },
     "execution_count": 43,
     "metadata": {},
     "output_type": "execute_result"
    },
    {
     "ename": "",
     "evalue": "",
     "output_type": "error",
     "traceback": [
      "\u001b[1;31mnotebook controller is DISPOSED. \n",
      "\u001b[1;31mView Jupyter <a href='command:jupyter.viewOutput'>log</a> for further details."
     ]
    }
   ],
   "source": [
    "output_data.shape"
   ]
  },
  {
   "cell_type": "code",
   "execution_count": null,
   "id": "12cde03b",
   "metadata": {},
   "outputs": [
    {
     "ename": "",
     "evalue": "",
     "output_type": "error",
     "traceback": [
      "\u001b[1;31mnotebook controller is DISPOSED. \n",
      "\u001b[1;31mView Jupyter <a href='command:jupyter.viewOutput'>log</a> for further details."
     ]
    }
   ],
   "source": [
    "from scipy.ndimage import label"
   ]
  },
  {
   "cell_type": "code",
   "execution_count": null,
   "id": "20ba9cf4",
   "metadata": {},
   "outputs": [
    {
     "ename": "",
     "evalue": "",
     "output_type": "error",
     "traceback": [
      "\u001b[1;31mnotebook controller is DISPOSED. \n",
      "\u001b[1;31mView Jupyter <a href='command:jupyter.viewOutput'>log</a> for further details."
     ]
    }
   ],
   "source": [
    "labeled_array, _ = label(output_data != 0)\n",
    "core_labels = np.unique(labeled_array[labeled_array != 0])"
   ]
  },
  {
   "cell_type": "code",
   "execution_count": null,
   "id": "1fce58bd",
   "metadata": {},
   "outputs": [
    {
     "data": {
      "text/plain": [
       "8"
      ]
     },
     "execution_count": 46,
     "metadata": {},
     "output_type": "execute_result"
    },
    {
     "ename": "",
     "evalue": "",
     "output_type": "error",
     "traceback": [
      "\u001b[1;31mnotebook controller is DISPOSED. \n",
      "\u001b[1;31mView Jupyter <a href='command:jupyter.viewOutput'>log</a> for further details."
     ]
    }
   ],
   "source": [
    "len(core_labels)"
   ]
  },
  {
   "cell_type": "code",
   "execution_count": null,
   "id": "b5676d6a",
   "metadata": {},
   "outputs": [
    {
     "data": {
      "text/plain": [
       "<matplotlib.image.AxesImage at 0x7ed196dbe840>"
      ]
     },
     "execution_count": 47,
     "metadata": {},
     "output_type": "execute_result"
    },
    {
     "data": {
      "image/png": "[encoded data removed]",
      "text/plain": [
       "<Figure size 640x480 with 1 Axes>"
      ]
     },
     "metadata": {},
     "output_type": "display_data"
    },
    {
     "ename": "",
     "evalue": "",
     "output_type": "error",
     "traceback": [
      "\u001b[1;31mnotebook controller is DISPOSED. \n",
      "\u001b[1;31mView Jupyter <a href='command:jupyter.viewOutput'>log</a> for further details."
     ]
    }
   ],
   "source": [
    "plt.imshow(output_data, origin='lower')"
   ]
  },
  {
   "cell_type": "code",
   "execution_count": null,
   "id": "44ee461e",
   "metadata": {},
   "outputs": [
    {
     "data": {
      "text/plain": [
       "torch.Size([288, 10])"
      ]
     },
     "execution_count": 48,
     "metadata": {},
     "output_type": "execute_result"
    },
    {
     "ename": "",
     "evalue": "",
     "output_type": "error",
     "traceback": [
      "\u001b[1;31mnotebook controller is DISPOSED. \n",
      "\u001b[1;31mView Jupyter <a href='command:jupyter.viewOutput'>log</a> for further details."
     ]
    }
   ],
   "source": [
    "torch.load(\"/gws/nopw/j04/wiser_ewsa/mrakotomanga/Intercomparison/raw/inputs_t0/input-20191208_0700.pt\")[\"input_tensor\"].shape"
   ]
  },
  {
   "cell_type": "code",
   "execution_count": null,
   "id": "84bff9f4",
   "metadata": {},
   "outputs": [
    {
     "data": {
      "text/plain": [
       "torch.Size([424, 463])"
      ]
     },
     "execution_count": 49,
     "metadata": {},
     "output_type": "execute_result"
    },
    {
     "ename": "",
     "evalue": "",
     "output_type": "error",
     "traceback": [
      "\u001b[1;31mnotebook controller is DISPOSED. \n",
      "\u001b[1;31mView Jupyter <a href='command:jupyter.viewOutput'>log</a> for further details."
     ]
    }
   ],
   "source": [
    "torch.load(\"/gws/nopw/j04/wiser_ewsa/mrakotomanga/Intercomparison/raw/targets_t2/target-20191208_0700.pt\").shape"
   ]
  },
  {
   "cell_type": "code",
   "execution_count": null,
   "id": "84bff9f4",
   "metadata": {},
   "outputs": [
    {
     "data": {
      "text/plain": [
       "torch.Size([424, 463])"
      ]
     },
     "execution_count": 50,
     "metadata": {},
     "output_type": "execute_result"
    },
    {
     "ename": "",
     "evalue": "",
     "output_type": "error",
     "traceback": [
      "\u001b[1;31mnotebook controller is DISPOSED. \n",
      "\u001b[1;31mView Jupyter <a href='command:jupyter.viewOutput'>log</a> for further details."
     ]
    }
   ],
   "source": [
    "torch.load(\"/gws/nopw/j04/wiser_ewsa/mrakotomanga/Intercomparison/raw/targets_t2/target-20190212_0415.pt\").shape"
   ]
  }
 ],
 "metadata": {
  "kernelspec": {
   "display_name": ".venv",
   "language": "python",
   "name": "python3"
  },
  "language_info": {
   "codemirror_mode": {
    "name": "ipython",
    "version": 3
   },
   "file_extension": ".py",
   "mimetype": "text/x-python",
   "name": "python",
   "nbconvert_exporter": "python",
   "pygments_lexer": "ipython3",
   "version": "3.12.2"
  }
 },
 "nbformat": 4,
 "nbformat_minor": 5
}
