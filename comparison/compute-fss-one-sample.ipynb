{
 "cells": [
  {
   "cell_type": "code",
   "execution_count": 22,
   "id": "43c4cba4",
   "metadata": {},
   "outputs": [],
   "source": [
    "import torch\n",
    "import numpy as np\n",
    "from scipy.ndimage import uniform_filter"
   ]
  },
  {
   "cell_type": "code",
   "execution_count": 23,
   "id": "a3309685",
   "metadata": {},
   "outputs": [],
   "source": [
    "year = \"2020\"\n",
    "month = \"02\"\n",
    "day = \"09\"\n",
    "hour = \"06\"\n",
    "minute = \"15\""
   ]
  },
  {
   "cell_type": "code",
   "execution_count": 24,
   "id": "38786902",
   "metadata": {},
   "outputs": [],
   "source": [
    "lead_time = 6"
   ]
  },
  {
   "cell_type": "code",
   "execution_count": 25,
   "id": "013e253f",
   "metadata": {},
   "outputs": [],
   "source": [
    "base_dir = f\"/gws/nopw/j04/wiser_ewsa/mrakotomanga/Intercomparison/combined_nowcasts/t{lead_time}\"\n",
    "\n",
    "nowcast_origin = f\"{year}{month}{day}_{hour}{minute}.pt\"\n",
    "\n",
    "file = f\"{base_dir}/{nowcast_origin}\""
   ]
  },
  {
   "cell_type": "code",
   "execution_count": 26,
   "id": "e6d97eec",
   "metadata": {},
   "outputs": [],
   "source": [
    "nowcast = torch.load(file, weights_only=False)"
   ]
  },
  {
   "cell_type": "code",
   "execution_count": 27,
   "id": "4ac221db",
   "metadata": {},
   "outputs": [],
   "source": [
    "gt = nowcast[\"ground_truth\"]\n",
    "zcast = nowcast[\"zcast\"]\n",
    "nflics = nowcast[\"nflics\"]\n",
    "netncc = nowcast[\"netncc\"]"
   ]
  },
  {
   "cell_type": "code",
   "execution_count": 28,
   "id": "9662a612",
   "metadata": {},
   "outputs": [],
   "source": [
    "def compute_fss(pred, obs, window):\n",
    "    \"\"\"\n",
    "    Compute Fractions Skill Score for a given spatial window size.\n",
    "    Uses a uniform filter to calculate local fractions.\n",
    "    \"\"\"\n",
    "    pred = np.clip(pred, 0, 1)\n",
    "    obs = np.clip(obs, 0, 1)\n",
    "\n",
    "    # Local fractional coverage (mean in the neighbourhood)\n",
    "    f_pred = uniform_filter(pred, size=window, mode=\"constant\")\n",
    "    f_obs  = uniform_filter(obs, size=window, mode=\"constant\")\n",
    "\n",
    "    numerator = np.mean((f_pred - f_obs) ** 2)\n",
    "    denominator = np.mean(f_pred ** 2 + f_obs ** 2)\n",
    "    fss = 1 - numerator / (denominator + 1e-8)\n",
    "    return fss"
   ]
  },
  {
   "cell_type": "code",
   "execution_count": 29,
   "id": "7884a89d",
   "metadata": {},
   "outputs": [
    {
     "name": "stdout",
     "output_type": "stream",
     "text": [
      "  Window |      ZCAST |     NFLICS |     NetNCC\n",
      "----------------------------------------------\n",
      "       3 | 0.1541 | 0.0580 | 0.0817\n",
      "       9 | 0.2058 | 0.0589 | 0.0871\n",
      "      25 | 0.3465 | 0.0600 | 0.0904\n",
      "      49 | 0.4880 | 0.0600 | 0.0911\n",
      "      81 | 0.5844 | 0.0602 | 0.0953\n",
      "     121 | 0.6411 | 0.0606 | 0.0990\n"
     ]
    }
   ],
   "source": [
    "windows = [3, 9, 25, 49, 81, 121]\n",
    "results = []\n",
    "for w in windows:\n",
    "    fss_zcast = compute_fss(zcast, gt, w)\n",
    "    fss_nflics = compute_fss(nflics, gt, w)\n",
    "    fss_netncc = compute_fss(netncc, gt, w)\n",
    "    results.append({\n",
    "        \"window\": w,\n",
    "        \"fss_zcast\": fss_zcast,\n",
    "        \"fss_nflics\": fss_nflics,\n",
    "        \"fss_netncc\": fss_netncc\n",
    "    })\n",
    "\n",
    "# ---------------------------------------------------------------------\n",
    "# Display results\n",
    "# ---------------------------------------------------------------------\n",
    "print(f\"{'Window':>8} | {'ZCAST':>10} | {'NFLICS':>10} | {'NetNCC':>10}\")\n",
    "print(\"-\" * 46)\n",
    "for r in results:\n",
    "    print(f\"{r['window']:>8} | {r['fss_zcast']:.4f} | {r['fss_nflics']:.4f} | {r['fss_netncc']:.4f}\")"
   ]
  }
 ],
 "metadata": {
  "kernelspec": {
   "display_name": ".venv",
   "language": "python",
   "name": "python3"
  },
  "language_info": {
   "codemirror_mode": {
    "name": "ipython",
    "version": 3
   },
   "file_extension": ".py",
   "mimetype": "text/x-python",
   "name": "python",
   "nbconvert_exporter": "python",
   "pygments_lexer": "ipython3",
   "version": "3.12.2"
  }
 },
 "nbformat": 4,
 "nbformat_minor": 5
}
