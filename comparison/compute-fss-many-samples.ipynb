{
 "cells": [
  {
   "cell_type": "code",
   "execution_count": 11,
   "id": "43c4cba4",
   "metadata": {},
   "outputs": [],
   "source": [
    "import os\n",
    "import torch\n",
    "import numpy as np\n",
    "from tqdm import tqdm\n",
    "from scipy.ndimage import uniform_filter"
   ]
  },
  {
   "cell_type": "code",
   "execution_count": null,
   "id": "14405bb1",
   "metadata": {},
   "outputs": [],
   "source": [
    "lead_time = 6\n",
    "base_dir = f\"/gws/nopw/j04/wiser_ewsa/mrakotomanga/Intercomparison/combined_nowcasts/t{lead_time}\"\n",
    "\n",
    "target_hour = \"12\"\n",
    "windows = [3, 9, 25, 49, 81, 121]\n",
    "PIXEL_SIZE_KM = 3"
   ]
  },
  {
   "cell_type": "code",
   "execution_count": 13,
   "id": "d44509b8",
   "metadata": {},
   "outputs": [],
   "source": [
    "def compute_fss(pred, obs, window):\n",
    "    pred = np.clip(pred, 0, 1)\n",
    "    obs = np.clip(obs, 0, 1)\n",
    "    f_pred = uniform_filter(pred, size=window, mode=\"constant\")\n",
    "    f_obs = uniform_filter(obs, size=window, mode=\"constant\")\n",
    "    num = np.mean((f_pred - f_obs) ** 2)\n",
    "    den = np.mean(f_pred ** 2 + f_obs ** 2)\n",
    "    return 1 - num / (den + 1e-8)"
   ]
  },
  {
   "cell_type": "code",
   "execution_count": 14,
   "id": "0895129a",
   "metadata": {},
   "outputs": [
    {
     "name": "stdout",
     "output_type": "stream",
     "text": [
      "Found 537 files at hour=12 UTC\n"
     ]
    },
    {
     "name": "stderr",
     "output_type": "stream",
     "text": [
      "Computing FSS:  29%|██▉       | 157/537 [00:15<00:16, 23.39it/s]"
     ]
    },
    {
     "name": "stdout",
     "output_type": "stream",
     "text": [
      "Skipping corrupted file: /gws/nopw/j04/wiser_ewsa/mrakotomanga/Intercomparison/combined_nowcasts/t6/20201202_1200.pt\n",
      "Skipping corrupted file: /gws/nopw/j04/wiser_ewsa/mrakotomanga/Intercomparison/combined_nowcasts/t6/20201202_1215.pt\n",
      "Skipping corrupted file: /gws/nopw/j04/wiser_ewsa/mrakotomanga/Intercomparison/combined_nowcasts/t6/20201202_1230.pt\n",
      "Skipping corrupted file: /gws/nopw/j04/wiser_ewsa/mrakotomanga/Intercomparison/combined_nowcasts/t6/20201202_1245.pt\n",
      "Skipping corrupted file: /gws/nopw/j04/wiser_ewsa/mrakotomanga/Intercomparison/combined_nowcasts/t6/20201203_1200.pt\n",
      "Skipping corrupted file: /gws/nopw/j04/wiser_ewsa/mrakotomanga/Intercomparison/combined_nowcasts/t6/20201203_1215.pt\n",
      "Skipping corrupted file: /gws/nopw/j04/wiser_ewsa/mrakotomanga/Intercomparison/combined_nowcasts/t6/20201203_1230.pt\n",
      "Skipping corrupted file: /gws/nopw/j04/wiser_ewsa/mrakotomanga/Intercomparison/combined_nowcasts/t6/20201203_1245.pt\n",
      "Skipping corrupted file: /gws/nopw/j04/wiser_ewsa/mrakotomanga/Intercomparison/combined_nowcasts/t6/20201204_1200.pt\n"
     ]
    },
    {
     "name": "stderr",
     "output_type": "stream",
     "text": [
      "Computing FSS:  31%|███       | 166/537 [00:15<00:12, 30.40it/s]"
     ]
    },
    {
     "name": "stdout",
     "output_type": "stream",
     "text": [
      "Skipping corrupted file: /gws/nopw/j04/wiser_ewsa/mrakotomanga/Intercomparison/combined_nowcasts/t6/20201204_1215.pt\n",
      "Skipping corrupted file: /gws/nopw/j04/wiser_ewsa/mrakotomanga/Intercomparison/combined_nowcasts/t6/20201204_1230.pt\n",
      "Skipping corrupted file: /gws/nopw/j04/wiser_ewsa/mrakotomanga/Intercomparison/combined_nowcasts/t6/20201204_1245.pt\n",
      "Skipping corrupted file: /gws/nopw/j04/wiser_ewsa/mrakotomanga/Intercomparison/combined_nowcasts/t6/20201205_1200.pt\n",
      "Skipping corrupted file: /gws/nopw/j04/wiser_ewsa/mrakotomanga/Intercomparison/combined_nowcasts/t6/20201205_1215.pt\n",
      "Skipping corrupted file: /gws/nopw/j04/wiser_ewsa/mrakotomanga/Intercomparison/combined_nowcasts/t6/20201205_1230.pt\n",
      "Skipping corrupted file: /gws/nopw/j04/wiser_ewsa/mrakotomanga/Intercomparison/combined_nowcasts/t6/20201205_1245.pt\n",
      "Skipping corrupted file: /gws/nopw/j04/wiser_ewsa/mrakotomanga/Intercomparison/combined_nowcasts/t6/20201206_1200.pt\n"
     ]
    },
    {
     "name": "stderr",
     "output_type": "stream",
     "text": [
      "Computing FSS:  33%|███▎      | 175/537 [00:16<00:10, 35.00it/s]"
     ]
    },
    {
     "name": "stdout",
     "output_type": "stream",
     "text": [
      "Skipping corrupted file: /gws/nopw/j04/wiser_ewsa/mrakotomanga/Intercomparison/combined_nowcasts/t6/20201206_1215.pt\n",
      "Skipping corrupted file: /gws/nopw/j04/wiser_ewsa/mrakotomanga/Intercomparison/combined_nowcasts/t6/20201206_1230.pt\n",
      "Skipping corrupted file: /gws/nopw/j04/wiser_ewsa/mrakotomanga/Intercomparison/combined_nowcasts/t6/20201206_1245.pt\n",
      "Skipping corrupted file: /gws/nopw/j04/wiser_ewsa/mrakotomanga/Intercomparison/combined_nowcasts/t6/20201207_1200.pt\n",
      "Skipping corrupted file: /gws/nopw/j04/wiser_ewsa/mrakotomanga/Intercomparison/combined_nowcasts/t6/20201207_1215.pt\n",
      "Skipping corrupted file: /gws/nopw/j04/wiser_ewsa/mrakotomanga/Intercomparison/combined_nowcasts/t6/20201207_1230.pt\n",
      "Skipping corrupted file: /gws/nopw/j04/wiser_ewsa/mrakotomanga/Intercomparison/combined_nowcasts/t6/20201207_1245.pt\n",
      "Skipping corrupted file: /gws/nopw/j04/wiser_ewsa/mrakotomanga/Intercomparison/combined_nowcasts/t6/20201208_1200.pt\n",
      "Skipping corrupted file: /gws/nopw/j04/wiser_ewsa/mrakotomanga/Intercomparison/combined_nowcasts/t6/20201208_1215.pt\n"
     ]
    },
    {
     "name": "stderr",
     "output_type": "stream",
     "text": [
      "Computing FSS:  33%|███▎      | 179/537 [00:16<00:10, 35.23it/s]"
     ]
    },
    {
     "name": "stdout",
     "output_type": "stream",
     "text": [
      "Skipping corrupted file: /gws/nopw/j04/wiser_ewsa/mrakotomanga/Intercomparison/combined_nowcasts/t6/20201208_1230.pt\n",
      "Skipping corrupted file: /gws/nopw/j04/wiser_ewsa/mrakotomanga/Intercomparison/combined_nowcasts/t6/20201208_1245.pt\n",
      "Skipping corrupted file: /gws/nopw/j04/wiser_ewsa/mrakotomanga/Intercomparison/combined_nowcasts/t6/20201209_1200.pt\n",
      "Skipping corrupted file: /gws/nopw/j04/wiser_ewsa/mrakotomanga/Intercomparison/combined_nowcasts/t6/20201209_1215.pt\n",
      "Skipping corrupted file: /gws/nopw/j04/wiser_ewsa/mrakotomanga/Intercomparison/combined_nowcasts/t6/20201209_1230.pt\n",
      "Skipping corrupted file: /gws/nopw/j04/wiser_ewsa/mrakotomanga/Intercomparison/combined_nowcasts/t6/20201209_1245.pt\n",
      "Skipping corrupted file: /gws/nopw/j04/wiser_ewsa/mrakotomanga/Intercomparison/combined_nowcasts/t6/20201210_1200.pt\n",
      "Skipping corrupted file: /gws/nopw/j04/wiser_ewsa/mrakotomanga/Intercomparison/combined_nowcasts/t6/20201210_1215.pt\n"
     ]
    },
    {
     "name": "stderr",
     "output_type": "stream",
     "text": [
      "Computing FSS:  35%|███▌      | 190/537 [00:16<00:07, 44.63it/s]"
     ]
    },
    {
     "name": "stdout",
     "output_type": "stream",
     "text": [
      "Skipping corrupted file: /gws/nopw/j04/wiser_ewsa/mrakotomanga/Intercomparison/combined_nowcasts/t6/20201210_1230.pt\n",
      "Skipping corrupted file: /gws/nopw/j04/wiser_ewsa/mrakotomanga/Intercomparison/combined_nowcasts/t6/20201210_1245.pt\n",
      "Skipping corrupted file: /gws/nopw/j04/wiser_ewsa/mrakotomanga/Intercomparison/combined_nowcasts/t6/20201211_1200.pt\n",
      "Skipping corrupted file: /gws/nopw/j04/wiser_ewsa/mrakotomanga/Intercomparison/combined_nowcasts/t6/20201211_1215.pt\n",
      "Skipping corrupted file: /gws/nopw/j04/wiser_ewsa/mrakotomanga/Intercomparison/combined_nowcasts/t6/20201211_1230.pt\n",
      "Skipping corrupted file: /gws/nopw/j04/wiser_ewsa/mrakotomanga/Intercomparison/combined_nowcasts/t6/20201211_1245.pt\n",
      "Skipping corrupted file: /gws/nopw/j04/wiser_ewsa/mrakotomanga/Intercomparison/combined_nowcasts/t6/20201212_1200.pt\n",
      "Skipping corrupted file: /gws/nopw/j04/wiser_ewsa/mrakotomanga/Intercomparison/combined_nowcasts/t6/20201212_1215.pt\n",
      "Skipping corrupted file: /gws/nopw/j04/wiser_ewsa/mrakotomanga/Intercomparison/combined_nowcasts/t6/20201212_1230.pt\n",
      "Skipping corrupted file: /gws/nopw/j04/wiser_ewsa/mrakotomanga/Intercomparison/combined_nowcasts/t6/20201212_1245.pt\n",
      "Skipping corrupted file: /gws/nopw/j04/wiser_ewsa/mrakotomanga/Intercomparison/combined_nowcasts/t6/20201213_1200.pt\n",
      "Skipping corrupted file: /gws/nopw/j04/wiser_ewsa/mrakotomanga/Intercomparison/combined_nowcasts/t6/20201213_1215.pt\n",
      "Skipping corrupted file: /gws/nopw/j04/wiser_ewsa/mrakotomanga/Intercomparison/combined_nowcasts/t6/20201213_1230.pt\n"
     ]
    },
    {
     "name": "stderr",
     "output_type": "stream",
     "text": [
      "Computing FSS:  39%|███▊      | 208/537 [00:16<00:05, 57.81it/s]"
     ]
    },
    {
     "name": "stdout",
     "output_type": "stream",
     "text": [
      "Skipping corrupted file: /gws/nopw/j04/wiser_ewsa/mrakotomanga/Intercomparison/combined_nowcasts/t6/20201213_1245.pt\n",
      "Skipping corrupted file: /gws/nopw/j04/wiser_ewsa/mrakotomanga/Intercomparison/combined_nowcasts/t6/20201214_1200.pt\n",
      "Skipping corrupted file: /gws/nopw/j04/wiser_ewsa/mrakotomanga/Intercomparison/combined_nowcasts/t6/20201214_1215.pt\n",
      "Skipping corrupted file: /gws/nopw/j04/wiser_ewsa/mrakotomanga/Intercomparison/combined_nowcasts/t6/20201214_1245.pt\n",
      "Skipping corrupted file: /gws/nopw/j04/wiser_ewsa/mrakotomanga/Intercomparison/combined_nowcasts/t6/20201215_1200.pt\n",
      "Skipping corrupted file: /gws/nopw/j04/wiser_ewsa/mrakotomanga/Intercomparison/combined_nowcasts/t6/20201215_1215.pt\n",
      "Skipping corrupted file: /gws/nopw/j04/wiser_ewsa/mrakotomanga/Intercomparison/combined_nowcasts/t6/20201215_1230.pt\n",
      "Skipping corrupted file: /gws/nopw/j04/wiser_ewsa/mrakotomanga/Intercomparison/combined_nowcasts/t6/20201215_1245.pt\n",
      "Skipping corrupted file: /gws/nopw/j04/wiser_ewsa/mrakotomanga/Intercomparison/combined_nowcasts/t6/20201216_1200.pt\n",
      "Skipping corrupted file: /gws/nopw/j04/wiser_ewsa/mrakotomanga/Intercomparison/combined_nowcasts/t6/20201216_1230.pt\n",
      "Skipping corrupted file: /gws/nopw/j04/wiser_ewsa/mrakotomanga/Intercomparison/combined_nowcasts/t6/20201216_1245.pt\n",
      "Skipping corrupted file: /gws/nopw/j04/wiser_ewsa/mrakotomanga/Intercomparison/combined_nowcasts/t6/20201218_1200.pt\n",
      "Skipping corrupted file: /gws/nopw/j04/wiser_ewsa/mrakotomanga/Intercomparison/combined_nowcasts/t6/20201218_1215.pt\n",
      "Skipping corrupted file: /gws/nopw/j04/wiser_ewsa/mrakotomanga/Intercomparison/combined_nowcasts/t6/20201218_1230.pt\n",
      "Skipping corrupted file: /gws/nopw/j04/wiser_ewsa/mrakotomanga/Intercomparison/combined_nowcasts/t6/20201218_1245.pt\n"
     ]
    },
    {
     "name": "stderr",
     "output_type": "stream",
     "text": [
      "Computing FSS:  40%|███▉      | 214/537 [00:16<00:05, 56.78it/s]"
     ]
    },
    {
     "name": "stdout",
     "output_type": "stream",
     "text": [
      "Skipping corrupted file: /gws/nopw/j04/wiser_ewsa/mrakotomanga/Intercomparison/combined_nowcasts/t6/20201219_1200.pt\n",
      "Skipping corrupted file: /gws/nopw/j04/wiser_ewsa/mrakotomanga/Intercomparison/combined_nowcasts/t6/20201219_1215.pt\n",
      "Skipping corrupted file: /gws/nopw/j04/wiser_ewsa/mrakotomanga/Intercomparison/combined_nowcasts/t6/20201219_1230.pt\n",
      "Skipping corrupted file: /gws/nopw/j04/wiser_ewsa/mrakotomanga/Intercomparison/combined_nowcasts/t6/20201220_1200.pt\n",
      "Skipping corrupted file: /gws/nopw/j04/wiser_ewsa/mrakotomanga/Intercomparison/combined_nowcasts/t6/20201220_1215.pt\n",
      "Skipping corrupted file: /gws/nopw/j04/wiser_ewsa/mrakotomanga/Intercomparison/combined_nowcasts/t6/20201220_1230.pt\n",
      "Skipping corrupted file: /gws/nopw/j04/wiser_ewsa/mrakotomanga/Intercomparison/combined_nowcasts/t6/20201220_1245.pt\n",
      "Skipping corrupted file: /gws/nopw/j04/wiser_ewsa/mrakotomanga/Intercomparison/combined_nowcasts/t6/20201221_1200.pt\n"
     ]
    },
    {
     "name": "stderr",
     "output_type": "stream",
     "text": [
      "Computing FSS:  42%|████▏     | 226/537 [00:17<00:06, 48.47it/s]"
     ]
    },
    {
     "name": "stdout",
     "output_type": "stream",
     "text": [
      "Skipping corrupted file: /gws/nopw/j04/wiser_ewsa/mrakotomanga/Intercomparison/combined_nowcasts/t6/20201221_1215.pt\n",
      "Skipping corrupted file: /gws/nopw/j04/wiser_ewsa/mrakotomanga/Intercomparison/combined_nowcasts/t6/20201221_1230.pt\n",
      "Skipping corrupted file: /gws/nopw/j04/wiser_ewsa/mrakotomanga/Intercomparison/combined_nowcasts/t6/20201221_1245.pt\n",
      "Skipping corrupted file: /gws/nopw/j04/wiser_ewsa/mrakotomanga/Intercomparison/combined_nowcasts/t6/20201222_1200.pt\n",
      "Skipping corrupted file: /gws/nopw/j04/wiser_ewsa/mrakotomanga/Intercomparison/combined_nowcasts/t6/20201222_1215.pt\n",
      "Skipping corrupted file: /gws/nopw/j04/wiser_ewsa/mrakotomanga/Intercomparison/combined_nowcasts/t6/20201222_1230.pt\n",
      "Skipping corrupted file: /gws/nopw/j04/wiser_ewsa/mrakotomanga/Intercomparison/combined_nowcasts/t6/20201222_1245.pt\n",
      "Skipping corrupted file: /gws/nopw/j04/wiser_ewsa/mrakotomanga/Intercomparison/combined_nowcasts/t6/20201223_1200.pt\n",
      "Skipping corrupted file: /gws/nopw/j04/wiser_ewsa/mrakotomanga/Intercomparison/combined_nowcasts/t6/20201223_1215.pt\n",
      "Skipping corrupted file: /gws/nopw/j04/wiser_ewsa/mrakotomanga/Intercomparison/combined_nowcasts/t6/20201223_1230.pt\n"
     ]
    },
    {
     "name": "stderr",
     "output_type": "stream",
     "text": [
      "Computing FSS:  44%|████▍     | 237/537 [00:17<00:05, 50.71it/s]"
     ]
    },
    {
     "name": "stdout",
     "output_type": "stream",
     "text": [
      "Skipping corrupted file: /gws/nopw/j04/wiser_ewsa/mrakotomanga/Intercomparison/combined_nowcasts/t6/20201223_1245.pt\n",
      "Skipping corrupted file: /gws/nopw/j04/wiser_ewsa/mrakotomanga/Intercomparison/combined_nowcasts/t6/20201224_1215.pt\n",
      "Skipping corrupted file: /gws/nopw/j04/wiser_ewsa/mrakotomanga/Intercomparison/combined_nowcasts/t6/20201224_1230.pt\n",
      "Skipping corrupted file: /gws/nopw/j04/wiser_ewsa/mrakotomanga/Intercomparison/combined_nowcasts/t6/20201224_1245.pt\n",
      "Skipping corrupted file: /gws/nopw/j04/wiser_ewsa/mrakotomanga/Intercomparison/combined_nowcasts/t6/20201225_1200.pt\n",
      "Skipping corrupted file: /gws/nopw/j04/wiser_ewsa/mrakotomanga/Intercomparison/combined_nowcasts/t6/20201225_1215.pt\n",
      "Skipping corrupted file: /gws/nopw/j04/wiser_ewsa/mrakotomanga/Intercomparison/combined_nowcasts/t6/20201225_1230.pt\n",
      "Skipping corrupted file: /gws/nopw/j04/wiser_ewsa/mrakotomanga/Intercomparison/combined_nowcasts/t6/20201225_1245.pt\n",
      "Skipping corrupted file: /gws/nopw/j04/wiser_ewsa/mrakotomanga/Intercomparison/combined_nowcasts/t6/20201226_1200.pt\n",
      "Skipping corrupted file: /gws/nopw/j04/wiser_ewsa/mrakotomanga/Intercomparison/combined_nowcasts/t6/20201226_1215.pt\n"
     ]
    },
    {
     "name": "stderr",
     "output_type": "stream",
     "text": [
      "Computing FSS:  47%|████▋     | 251/537 [00:17<00:05, 56.64it/s]"
     ]
    },
    {
     "name": "stdout",
     "output_type": "stream",
     "text": [
      "Skipping corrupted file: /gws/nopw/j04/wiser_ewsa/mrakotomanga/Intercomparison/combined_nowcasts/t6/20201226_1230.pt\n",
      "Skipping corrupted file: /gws/nopw/j04/wiser_ewsa/mrakotomanga/Intercomparison/combined_nowcasts/t6/20201226_1245.pt\n",
      "Skipping corrupted file: /gws/nopw/j04/wiser_ewsa/mrakotomanga/Intercomparison/combined_nowcasts/t6/20201227_1200.pt\n",
      "Skipping corrupted file: /gws/nopw/j04/wiser_ewsa/mrakotomanga/Intercomparison/combined_nowcasts/t6/20201227_1215.pt\n",
      "Skipping corrupted file: /gws/nopw/j04/wiser_ewsa/mrakotomanga/Intercomparison/combined_nowcasts/t6/20201227_1230.pt\n",
      "Skipping corrupted file: /gws/nopw/j04/wiser_ewsa/mrakotomanga/Intercomparison/combined_nowcasts/t6/20201227_1245.pt\n",
      "Skipping corrupted file: /gws/nopw/j04/wiser_ewsa/mrakotomanga/Intercomparison/combined_nowcasts/t6/20201228_1200.pt\n",
      "Skipping corrupted file: /gws/nopw/j04/wiser_ewsa/mrakotomanga/Intercomparison/combined_nowcasts/t6/20201228_1215.pt\n",
      "Skipping corrupted file: /gws/nopw/j04/wiser_ewsa/mrakotomanga/Intercomparison/combined_nowcasts/t6/20201228_1230.pt\n",
      "Skipping corrupted file: /gws/nopw/j04/wiser_ewsa/mrakotomanga/Intercomparison/combined_nowcasts/t6/20201228_1245.pt\n",
      "Skipping corrupted file: /gws/nopw/j04/wiser_ewsa/mrakotomanga/Intercomparison/combined_nowcasts/t6/20201229_1200.pt\n",
      "Skipping corrupted file: /gws/nopw/j04/wiser_ewsa/mrakotomanga/Intercomparison/combined_nowcasts/t6/20201229_1215.pt\n",
      "Skipping corrupted file: /gws/nopw/j04/wiser_ewsa/mrakotomanga/Intercomparison/combined_nowcasts/t6/20201229_1230.pt\n",
      "Skipping corrupted file: /gws/nopw/j04/wiser_ewsa/mrakotomanga/Intercomparison/combined_nowcasts/t6/20201229_1245.pt\n"
     ]
    },
    {
     "name": "stderr",
     "output_type": "stream",
     "text": [
      "Computing FSS:  48%|████▊     | 257/537 [00:17<00:05, 48.56it/s]"
     ]
    },
    {
     "name": "stdout",
     "output_type": "stream",
     "text": [
      "Skipping corrupted file: /gws/nopw/j04/wiser_ewsa/mrakotomanga/Intercomparison/combined_nowcasts/t6/20201230_1200.pt\n",
      "Skipping corrupted file: /gws/nopw/j04/wiser_ewsa/mrakotomanga/Intercomparison/combined_nowcasts/t6/20201230_1215.pt\n",
      "Skipping corrupted file: /gws/nopw/j04/wiser_ewsa/mrakotomanga/Intercomparison/combined_nowcasts/t6/20201230_1230.pt\n",
      "Skipping corrupted file: /gws/nopw/j04/wiser_ewsa/mrakotomanga/Intercomparison/combined_nowcasts/t6/20201230_1245.pt\n",
      "Skipping corrupted file: /gws/nopw/j04/wiser_ewsa/mrakotomanga/Intercomparison/combined_nowcasts/t6/20201231_1200.pt\n",
      "Skipping corrupted file: /gws/nopw/j04/wiser_ewsa/mrakotomanga/Intercomparison/combined_nowcasts/t6/20201231_1215.pt\n",
      "Skipping corrupted file: /gws/nopw/j04/wiser_ewsa/mrakotomanga/Intercomparison/combined_nowcasts/t6/20201231_1230.pt\n"
     ]
    },
    {
     "name": "stderr",
     "output_type": "stream",
     "text": [
      "Computing FSS:  49%|████▉     | 263/537 [00:17<00:06, 45.27it/s]"
     ]
    },
    {
     "name": "stdout",
     "output_type": "stream",
     "text": [
      "Skipping corrupted file: /gws/nopw/j04/wiser_ewsa/mrakotomanga/Intercomparison/combined_nowcasts/t6/20201231_1245.pt\n",
      "Skipping corrupted file: /gws/nopw/j04/wiser_ewsa/mrakotomanga/Intercomparison/combined_nowcasts/t6/20210101_1200.pt\n",
      "Skipping corrupted file: /gws/nopw/j04/wiser_ewsa/mrakotomanga/Intercomparison/combined_nowcasts/t6/20210101_1215.pt\n",
      "Skipping corrupted file: /gws/nopw/j04/wiser_ewsa/mrakotomanga/Intercomparison/combined_nowcasts/t6/20210101_1230.pt\n",
      "Skipping corrupted file: /gws/nopw/j04/wiser_ewsa/mrakotomanga/Intercomparison/combined_nowcasts/t6/20210101_1245.pt\n",
      "Skipping corrupted file: /gws/nopw/j04/wiser_ewsa/mrakotomanga/Intercomparison/combined_nowcasts/t6/20210102_1200.pt\n",
      "Skipping corrupted file: /gws/nopw/j04/wiser_ewsa/mrakotomanga/Intercomparison/combined_nowcasts/t6/20210102_1215.pt\n"
     ]
    },
    {
     "name": "stderr",
     "output_type": "stream",
     "text": [
      "Computing FSS:  51%|█████     | 273/537 [00:18<00:07, 36.76it/s]"
     ]
    },
    {
     "name": "stdout",
     "output_type": "stream",
     "text": [
      "Skipping corrupted file: /gws/nopw/j04/wiser_ewsa/mrakotomanga/Intercomparison/combined_nowcasts/t6/20210102_1230.pt\n",
      "Skipping corrupted file: /gws/nopw/j04/wiser_ewsa/mrakotomanga/Intercomparison/combined_nowcasts/t6/20210102_1245.pt\n",
      "Skipping corrupted file: /gws/nopw/j04/wiser_ewsa/mrakotomanga/Intercomparison/combined_nowcasts/t6/20210103_1215.pt\n",
      "Skipping corrupted file: /gws/nopw/j04/wiser_ewsa/mrakotomanga/Intercomparison/combined_nowcasts/t6/20210103_1230.pt\n",
      "Skipping corrupted file: /gws/nopw/j04/wiser_ewsa/mrakotomanga/Intercomparison/combined_nowcasts/t6/20210104_1245.pt\n",
      "Skipping corrupted file: /gws/nopw/j04/wiser_ewsa/mrakotomanga/Intercomparison/combined_nowcasts/t6/20210105_1200.pt\n",
      "Skipping corrupted file: /gws/nopw/j04/wiser_ewsa/mrakotomanga/Intercomparison/combined_nowcasts/t6/20210105_1215.pt\n",
      "Skipping corrupted file: /gws/nopw/j04/wiser_ewsa/mrakotomanga/Intercomparison/combined_nowcasts/t6/20210105_1230.pt\n",
      "Skipping corrupted file: /gws/nopw/j04/wiser_ewsa/mrakotomanga/Intercomparison/combined_nowcasts/t6/20210105_1245.pt\n",
      "Skipping corrupted file: /gws/nopw/j04/wiser_ewsa/mrakotomanga/Intercomparison/combined_nowcasts/t6/20210106_1200.pt\n"
     ]
    },
    {
     "name": "stderr",
     "output_type": "stream",
     "text": [
      "Computing FSS:  52%|█████▏    | 279/537 [00:18<00:06, 41.47it/s]"
     ]
    },
    {
     "name": "stdout",
     "output_type": "stream",
     "text": [
      "Skipping corrupted file: /gws/nopw/j04/wiser_ewsa/mrakotomanga/Intercomparison/combined_nowcasts/t6/20210106_1215.pt\n",
      "Skipping corrupted file: /gws/nopw/j04/wiser_ewsa/mrakotomanga/Intercomparison/combined_nowcasts/t6/20210106_1230.pt\n",
      "Skipping corrupted file: /gws/nopw/j04/wiser_ewsa/mrakotomanga/Intercomparison/combined_nowcasts/t6/20210106_1245.pt\n",
      "Skipping corrupted file: /gws/nopw/j04/wiser_ewsa/mrakotomanga/Intercomparison/combined_nowcasts/t6/20210107_1200.pt\n",
      "Skipping corrupted file: /gws/nopw/j04/wiser_ewsa/mrakotomanga/Intercomparison/combined_nowcasts/t6/20210107_1215.pt\n",
      "Skipping corrupted file: /gws/nopw/j04/wiser_ewsa/mrakotomanga/Intercomparison/combined_nowcasts/t6/20210107_1230.pt\n"
     ]
    },
    {
     "name": "stderr",
     "output_type": "stream",
     "text": [
      "Computing FSS:  54%|█████▎    | 288/537 [00:18<00:07, 34.75it/s]"
     ]
    },
    {
     "name": "stdout",
     "output_type": "stream",
     "text": [
      "Skipping corrupted file: /gws/nopw/j04/wiser_ewsa/mrakotomanga/Intercomparison/combined_nowcasts/t6/20210107_1245.pt\n",
      "Skipping corrupted file: /gws/nopw/j04/wiser_ewsa/mrakotomanga/Intercomparison/combined_nowcasts/t6/20210108_1200.pt\n",
      "Skipping corrupted file: /gws/nopw/j04/wiser_ewsa/mrakotomanga/Intercomparison/combined_nowcasts/t6/20210108_1215.pt\n",
      "Skipping corrupted file: /gws/nopw/j04/wiser_ewsa/mrakotomanga/Intercomparison/combined_nowcasts/t6/20210108_1230.pt\n",
      "Skipping corrupted file: /gws/nopw/j04/wiser_ewsa/mrakotomanga/Intercomparison/combined_nowcasts/t6/20210108_1245.pt\n",
      "Skipping corrupted file: /gws/nopw/j04/wiser_ewsa/mrakotomanga/Intercomparison/combined_nowcasts/t6/20210109_1200.pt\n",
      "Skipping corrupted file: /gws/nopw/j04/wiser_ewsa/mrakotomanga/Intercomparison/combined_nowcasts/t6/20210109_1215.pt\n",
      "Skipping corrupted file: /gws/nopw/j04/wiser_ewsa/mrakotomanga/Intercomparison/combined_nowcasts/t6/20210109_1230.pt\n",
      "Skipping corrupted file: /gws/nopw/j04/wiser_ewsa/mrakotomanga/Intercomparison/combined_nowcasts/t6/20210109_1245.pt\n"
     ]
    },
    {
     "name": "stderr",
     "output_type": "stream",
     "text": [
      "Computing FSS:  55%|█████▌    | 297/537 [00:18<00:06, 35.61it/s]"
     ]
    },
    {
     "name": "stdout",
     "output_type": "stream",
     "text": [
      "Skipping corrupted file: /gws/nopw/j04/wiser_ewsa/mrakotomanga/Intercomparison/combined_nowcasts/t6/20210110_1200.pt\n",
      "Skipping corrupted file: /gws/nopw/j04/wiser_ewsa/mrakotomanga/Intercomparison/combined_nowcasts/t6/20210110_1215.pt\n",
      "Skipping corrupted file: /gws/nopw/j04/wiser_ewsa/mrakotomanga/Intercomparison/combined_nowcasts/t6/20210110_1230.pt\n",
      "Skipping corrupted file: /gws/nopw/j04/wiser_ewsa/mrakotomanga/Intercomparison/combined_nowcasts/t6/20210110_1245.pt\n",
      "Skipping corrupted file: /gws/nopw/j04/wiser_ewsa/mrakotomanga/Intercomparison/combined_nowcasts/t6/20210111_1200.pt\n",
      "Skipping corrupted file: /gws/nopw/j04/wiser_ewsa/mrakotomanga/Intercomparison/combined_nowcasts/t6/20210111_1215.pt\n",
      "Skipping corrupted file: /gws/nopw/j04/wiser_ewsa/mrakotomanga/Intercomparison/combined_nowcasts/t6/20210111_1230.pt\n",
      "Skipping corrupted file: /gws/nopw/j04/wiser_ewsa/mrakotomanga/Intercomparison/combined_nowcasts/t6/20210112_1200.pt\n",
      "Skipping corrupted file: /gws/nopw/j04/wiser_ewsa/mrakotomanga/Intercomparison/combined_nowcasts/t6/20210112_1215.pt\n"
     ]
    },
    {
     "name": "stderr",
     "output_type": "stream",
     "text": [
      "Computing FSS:  58%|█████▊    | 310/537 [00:19<00:04, 47.41it/s]"
     ]
    },
    {
     "name": "stdout",
     "output_type": "stream",
     "text": [
      "Skipping corrupted file: /gws/nopw/j04/wiser_ewsa/mrakotomanga/Intercomparison/combined_nowcasts/t6/20210112_1230.pt\n",
      "Skipping corrupted file: /gws/nopw/j04/wiser_ewsa/mrakotomanga/Intercomparison/combined_nowcasts/t6/20210112_1245.pt\n",
      "Skipping corrupted file: /gws/nopw/j04/wiser_ewsa/mrakotomanga/Intercomparison/combined_nowcasts/t6/20210113_1215.pt\n",
      "Skipping corrupted file: /gws/nopw/j04/wiser_ewsa/mrakotomanga/Intercomparison/combined_nowcasts/t6/20210113_1230.pt\n",
      "Skipping corrupted file: /gws/nopw/j04/wiser_ewsa/mrakotomanga/Intercomparison/combined_nowcasts/t6/20210113_1245.pt\n",
      "Skipping corrupted file: /gws/nopw/j04/wiser_ewsa/mrakotomanga/Intercomparison/combined_nowcasts/t6/20210114_1200.pt\n",
      "Skipping corrupted file: /gws/nopw/j04/wiser_ewsa/mrakotomanga/Intercomparison/combined_nowcasts/t6/20210114_1215.pt\n",
      "Skipping corrupted file: /gws/nopw/j04/wiser_ewsa/mrakotomanga/Intercomparison/combined_nowcasts/t6/20210114_1230.pt\n",
      "Skipping corrupted file: /gws/nopw/j04/wiser_ewsa/mrakotomanga/Intercomparison/combined_nowcasts/t6/20210114_1245.pt\n",
      "Skipping corrupted file: /gws/nopw/j04/wiser_ewsa/mrakotomanga/Intercomparison/combined_nowcasts/t6/20210115_1200.pt\n",
      "Skipping corrupted file: /gws/nopw/j04/wiser_ewsa/mrakotomanga/Intercomparison/combined_nowcasts/t6/20210115_1230.pt\n",
      "Skipping corrupted file: /gws/nopw/j04/wiser_ewsa/mrakotomanga/Intercomparison/combined_nowcasts/t6/20210115_1245.pt\n"
     ]
    },
    {
     "name": "stderr",
     "output_type": "stream",
     "text": [
      "Computing FSS:  60%|█████▉    | 320/537 [00:19<00:04, 44.53it/s]"
     ]
    },
    {
     "name": "stdout",
     "output_type": "stream",
     "text": [
      "Skipping corrupted file: /gws/nopw/j04/wiser_ewsa/mrakotomanga/Intercomparison/combined_nowcasts/t6/20210116_1200.pt\n",
      "Skipping corrupted file: /gws/nopw/j04/wiser_ewsa/mrakotomanga/Intercomparison/combined_nowcasts/t6/20210116_1215.pt\n",
      "Skipping corrupted file: /gws/nopw/j04/wiser_ewsa/mrakotomanga/Intercomparison/combined_nowcasts/t6/20210116_1230.pt\n",
      "Skipping corrupted file: /gws/nopw/j04/wiser_ewsa/mrakotomanga/Intercomparison/combined_nowcasts/t6/20210116_1245.pt\n",
      "Skipping corrupted file: /gws/nopw/j04/wiser_ewsa/mrakotomanga/Intercomparison/combined_nowcasts/t6/20210117_1200.pt\n",
      "Skipping corrupted file: /gws/nopw/j04/wiser_ewsa/mrakotomanga/Intercomparison/combined_nowcasts/t6/20210117_1215.pt\n",
      "Skipping corrupted file: /gws/nopw/j04/wiser_ewsa/mrakotomanga/Intercomparison/combined_nowcasts/t6/20210117_1230.pt\n",
      "Skipping corrupted file: /gws/nopw/j04/wiser_ewsa/mrakotomanga/Intercomparison/combined_nowcasts/t6/20210117_1245.pt\n",
      "Skipping corrupted file: /gws/nopw/j04/wiser_ewsa/mrakotomanga/Intercomparison/combined_nowcasts/t6/20210118_1200.pt\n",
      "Skipping corrupted file: /gws/nopw/j04/wiser_ewsa/mrakotomanga/Intercomparison/combined_nowcasts/t6/20210118_1215.pt\n",
      "Skipping corrupted file: /gws/nopw/j04/wiser_ewsa/mrakotomanga/Intercomparison/combined_nowcasts/t6/20210118_1230.pt\n"
     ]
    },
    {
     "name": "stderr",
     "output_type": "stream",
     "text": [
      "Computing FSS:  62%|██████▏   | 331/537 [00:19<00:04, 45.11it/s]"
     ]
    },
    {
     "name": "stdout",
     "output_type": "stream",
     "text": [
      "Skipping corrupted file: /gws/nopw/j04/wiser_ewsa/mrakotomanga/Intercomparison/combined_nowcasts/t6/20210118_1245.pt\n",
      "Skipping corrupted file: /gws/nopw/j04/wiser_ewsa/mrakotomanga/Intercomparison/combined_nowcasts/t6/20210119_1200.pt\n",
      "Skipping corrupted file: /gws/nopw/j04/wiser_ewsa/mrakotomanga/Intercomparison/combined_nowcasts/t6/20210119_1215.pt\n",
      "Skipping corrupted file: /gws/nopw/j04/wiser_ewsa/mrakotomanga/Intercomparison/combined_nowcasts/t6/20210119_1230.pt\n",
      "Skipping corrupted file: /gws/nopw/j04/wiser_ewsa/mrakotomanga/Intercomparison/combined_nowcasts/t6/20210119_1245.pt\n",
      "Skipping corrupted file: /gws/nopw/j04/wiser_ewsa/mrakotomanga/Intercomparison/combined_nowcasts/t6/20210120_1200.pt\n",
      "Skipping corrupted file: /gws/nopw/j04/wiser_ewsa/mrakotomanga/Intercomparison/combined_nowcasts/t6/20210120_1215.pt\n",
      "Skipping corrupted file: /gws/nopw/j04/wiser_ewsa/mrakotomanga/Intercomparison/combined_nowcasts/t6/20210120_1230.pt\n"
     ]
    },
    {
     "name": "stderr",
     "output_type": "stream",
     "text": [
      "Computing FSS:  63%|██████▎   | 336/537 [00:19<00:04, 44.30it/s]"
     ]
    },
    {
     "name": "stdout",
     "output_type": "stream",
     "text": [
      "Skipping corrupted file: /gws/nopw/j04/wiser_ewsa/mrakotomanga/Intercomparison/combined_nowcasts/t6/20210120_1245.pt\n",
      "Skipping corrupted file: /gws/nopw/j04/wiser_ewsa/mrakotomanga/Intercomparison/combined_nowcasts/t6/20210121_1215.pt\n",
      "Skipping corrupted file: /gws/nopw/j04/wiser_ewsa/mrakotomanga/Intercomparison/combined_nowcasts/t6/20210121_1230.pt\n",
      "Skipping corrupted file: /gws/nopw/j04/wiser_ewsa/mrakotomanga/Intercomparison/combined_nowcasts/t6/20210121_1245.pt\n",
      "Skipping corrupted file: /gws/nopw/j04/wiser_ewsa/mrakotomanga/Intercomparison/combined_nowcasts/t6/20210122_1230.pt\n",
      "Skipping corrupted file: /gws/nopw/j04/wiser_ewsa/mrakotomanga/Intercomparison/combined_nowcasts/t6/20210122_1245.pt\n",
      "Skipping corrupted file: /gws/nopw/j04/wiser_ewsa/mrakotomanga/Intercomparison/combined_nowcasts/t6/20210123_1200.pt\n",
      "Skipping corrupted file: /gws/nopw/j04/wiser_ewsa/mrakotomanga/Intercomparison/combined_nowcasts/t6/20210123_1215.pt\n"
     ]
    },
    {
     "name": "stderr",
     "output_type": "stream",
     "text": [
      "Computing FSS:  64%|██████▍   | 346/537 [00:19<00:04, 43.75it/s]"
     ]
    },
    {
     "name": "stdout",
     "output_type": "stream",
     "text": [
      "Skipping corrupted file: /gws/nopw/j04/wiser_ewsa/mrakotomanga/Intercomparison/combined_nowcasts/t6/20210123_1230.pt\n",
      "Skipping corrupted file: /gws/nopw/j04/wiser_ewsa/mrakotomanga/Intercomparison/combined_nowcasts/t6/20210123_1245.pt\n",
      "Skipping corrupted file: /gws/nopw/j04/wiser_ewsa/mrakotomanga/Intercomparison/combined_nowcasts/t6/20210124_1200.pt\n",
      "Skipping corrupted file: /gws/nopw/j04/wiser_ewsa/mrakotomanga/Intercomparison/combined_nowcasts/t6/20210124_1215.pt\n",
      "Skipping corrupted file: /gws/nopw/j04/wiser_ewsa/mrakotomanga/Intercomparison/combined_nowcasts/t6/20210124_1230.pt\n",
      "Skipping corrupted file: /gws/nopw/j04/wiser_ewsa/mrakotomanga/Intercomparison/combined_nowcasts/t6/20210124_1245.pt\n",
      "Skipping corrupted file: /gws/nopw/j04/wiser_ewsa/mrakotomanga/Intercomparison/combined_nowcasts/t6/20210125_1200.pt\n",
      "Skipping corrupted file: /gws/nopw/j04/wiser_ewsa/mrakotomanga/Intercomparison/combined_nowcasts/t6/20210125_1215.pt\n",
      "Skipping corrupted file: /gws/nopw/j04/wiser_ewsa/mrakotomanga/Intercomparison/combined_nowcasts/t6/20210125_1245.pt\n",
      "Skipping corrupted file: /gws/nopw/j04/wiser_ewsa/mrakotomanga/Intercomparison/combined_nowcasts/t6/20210126_1200.pt\n",
      "Skipping corrupted file: /gws/nopw/j04/wiser_ewsa/mrakotomanga/Intercomparison/combined_nowcasts/t6/20210126_1215.pt\n"
     ]
    },
    {
     "name": "stderr",
     "output_type": "stream",
     "text": [
      "Computing FSS:  66%|██████▋   | 357/537 [00:20<00:04, 38.76it/s]"
     ]
    },
    {
     "name": "stdout",
     "output_type": "stream",
     "text": [
      "Skipping corrupted file: /gws/nopw/j04/wiser_ewsa/mrakotomanga/Intercomparison/combined_nowcasts/t6/20210126_1230.pt\n",
      "Skipping corrupted file: /gws/nopw/j04/wiser_ewsa/mrakotomanga/Intercomparison/combined_nowcasts/t6/20210126_1245.pt\n",
      "Skipping corrupted file: /gws/nopw/j04/wiser_ewsa/mrakotomanga/Intercomparison/combined_nowcasts/t6/20210127_1200.pt\n",
      "Skipping corrupted file: /gws/nopw/j04/wiser_ewsa/mrakotomanga/Intercomparison/combined_nowcasts/t6/20210127_1215.pt\n",
      "Skipping corrupted file: /gws/nopw/j04/wiser_ewsa/mrakotomanga/Intercomparison/combined_nowcasts/t6/20210127_1230.pt\n",
      "Skipping corrupted file: /gws/nopw/j04/wiser_ewsa/mrakotomanga/Intercomparison/combined_nowcasts/t6/20210127_1245.pt\n",
      "Skipping corrupted file: /gws/nopw/j04/wiser_ewsa/mrakotomanga/Intercomparison/combined_nowcasts/t6/20210128_1215.pt\n",
      "Skipping corrupted file: /gws/nopw/j04/wiser_ewsa/mrakotomanga/Intercomparison/combined_nowcasts/t6/20210128_1230.pt\n"
     ]
    },
    {
     "name": "stderr",
     "output_type": "stream",
     "text": [
      "Computing FSS:  69%|██████▊   | 368/537 [00:20<00:03, 44.30it/s]"
     ]
    },
    {
     "name": "stdout",
     "output_type": "stream",
     "text": [
      "Skipping corrupted file: /gws/nopw/j04/wiser_ewsa/mrakotomanga/Intercomparison/combined_nowcasts/t6/20210128_1245.pt\n",
      "Skipping corrupted file: /gws/nopw/j04/wiser_ewsa/mrakotomanga/Intercomparison/combined_nowcasts/t6/20210129_1215.pt\n",
      "Skipping corrupted file: /gws/nopw/j04/wiser_ewsa/mrakotomanga/Intercomparison/combined_nowcasts/t6/20210129_1230.pt\n",
      "Skipping corrupted file: /gws/nopw/j04/wiser_ewsa/mrakotomanga/Intercomparison/combined_nowcasts/t6/20210129_1245.pt\n",
      "Skipping corrupted file: /gws/nopw/j04/wiser_ewsa/mrakotomanga/Intercomparison/combined_nowcasts/t6/20210130_1200.pt\n",
      "Skipping corrupted file: /gws/nopw/j04/wiser_ewsa/mrakotomanga/Intercomparison/combined_nowcasts/t6/20210130_1215.pt\n",
      "Skipping corrupted file: /gws/nopw/j04/wiser_ewsa/mrakotomanga/Intercomparison/combined_nowcasts/t6/20210130_1230.pt\n",
      "Skipping corrupted file: /gws/nopw/j04/wiser_ewsa/mrakotomanga/Intercomparison/combined_nowcasts/t6/20210130_1245.pt\n",
      "Skipping corrupted file: /gws/nopw/j04/wiser_ewsa/mrakotomanga/Intercomparison/combined_nowcasts/t6/20210201_1200.pt\n",
      "Skipping corrupted file: /gws/nopw/j04/wiser_ewsa/mrakotomanga/Intercomparison/combined_nowcasts/t6/20210201_1215.pt\n"
     ]
    },
    {
     "name": "stderr",
     "output_type": "stream",
     "text": [
      "Computing FSS:  70%|██████▉   | 375/537 [00:20<00:03, 47.84it/s]"
     ]
    },
    {
     "name": "stdout",
     "output_type": "stream",
     "text": [
      "Skipping corrupted file: /gws/nopw/j04/wiser_ewsa/mrakotomanga/Intercomparison/combined_nowcasts/t6/20210201_1245.pt\n",
      "Skipping corrupted file: /gws/nopw/j04/wiser_ewsa/mrakotomanga/Intercomparison/combined_nowcasts/t6/20210202_1200.pt\n",
      "Skipping corrupted file: /gws/nopw/j04/wiser_ewsa/mrakotomanga/Intercomparison/combined_nowcasts/t6/20210202_1215.pt\n",
      "Skipping corrupted file: /gws/nopw/j04/wiser_ewsa/mrakotomanga/Intercomparison/combined_nowcasts/t6/20210202_1230.pt\n",
      "Skipping corrupted file: /gws/nopw/j04/wiser_ewsa/mrakotomanga/Intercomparison/combined_nowcasts/t6/20210202_1245.pt\n",
      "Skipping corrupted file: /gws/nopw/j04/wiser_ewsa/mrakotomanga/Intercomparison/combined_nowcasts/t6/20210203_1200.pt\n",
      "Skipping corrupted file: /gws/nopw/j04/wiser_ewsa/mrakotomanga/Intercomparison/combined_nowcasts/t6/20210203_1215.pt\n",
      "Skipping corrupted file: /gws/nopw/j04/wiser_ewsa/mrakotomanga/Intercomparison/combined_nowcasts/t6/20210203_1245.pt\n",
      "Skipping corrupted file: /gws/nopw/j04/wiser_ewsa/mrakotomanga/Intercomparison/combined_nowcasts/t6/20210204_1215.pt\n"
     ]
    },
    {
     "name": "stderr",
     "output_type": "stream",
     "text": [
      "Computing FSS:  72%|███████▏  | 387/537 [00:20<00:03, 49.18it/s]"
     ]
    },
    {
     "name": "stdout",
     "output_type": "stream",
     "text": [
      "Skipping corrupted file: /gws/nopw/j04/wiser_ewsa/mrakotomanga/Intercomparison/combined_nowcasts/t6/20210204_1230.pt\n",
      "Skipping corrupted file: /gws/nopw/j04/wiser_ewsa/mrakotomanga/Intercomparison/combined_nowcasts/t6/20210204_1245.pt\n",
      "Skipping corrupted file: /gws/nopw/j04/wiser_ewsa/mrakotomanga/Intercomparison/combined_nowcasts/t6/20210205_1200.pt\n",
      "Skipping corrupted file: /gws/nopw/j04/wiser_ewsa/mrakotomanga/Intercomparison/combined_nowcasts/t6/20210205_1215.pt\n",
      "Skipping corrupted file: /gws/nopw/j04/wiser_ewsa/mrakotomanga/Intercomparison/combined_nowcasts/t6/20210205_1230.pt\n",
      "Skipping corrupted file: /gws/nopw/j04/wiser_ewsa/mrakotomanga/Intercomparison/combined_nowcasts/t6/20210205_1245.pt\n",
      "Skipping corrupted file: /gws/nopw/j04/wiser_ewsa/mrakotomanga/Intercomparison/combined_nowcasts/t6/20210206_1200.pt\n",
      "Skipping corrupted file: /gws/nopw/j04/wiser_ewsa/mrakotomanga/Intercomparison/combined_nowcasts/t6/20210206_1215.pt\n",
      "Skipping corrupted file: /gws/nopw/j04/wiser_ewsa/mrakotomanga/Intercomparison/combined_nowcasts/t6/20210206_1230.pt\n",
      "Skipping corrupted file: /gws/nopw/j04/wiser_ewsa/mrakotomanga/Intercomparison/combined_nowcasts/t6/20210206_1245.pt\n",
      "Skipping corrupted file: /gws/nopw/j04/wiser_ewsa/mrakotomanga/Intercomparison/combined_nowcasts/t6/20210207_1200.pt\n",
      "Skipping corrupted file: /gws/nopw/j04/wiser_ewsa/mrakotomanga/Intercomparison/combined_nowcasts/t6/20210207_1215.pt\n",
      "Skipping corrupted file: /gws/nopw/j04/wiser_ewsa/mrakotomanga/Intercomparison/combined_nowcasts/t6/20210207_1230.pt\n",
      "Skipping corrupted file: /gws/nopw/j04/wiser_ewsa/mrakotomanga/Intercomparison/combined_nowcasts/t6/20210207_1245.pt\n",
      "Skipping corrupted file: /gws/nopw/j04/wiser_ewsa/mrakotomanga/Intercomparison/combined_nowcasts/t6/20210208_1215.pt\n"
     ]
    },
    {
     "name": "stderr",
     "output_type": "stream",
     "text": [
      "Computing FSS:  75%|███████▍  | 401/537 [00:21<00:02, 51.94it/s]"
     ]
    },
    {
     "name": "stdout",
     "output_type": "stream",
     "text": [
      "Skipping corrupted file: /gws/nopw/j04/wiser_ewsa/mrakotomanga/Intercomparison/combined_nowcasts/t6/20210208_1230.pt\n",
      "Skipping corrupted file: /gws/nopw/j04/wiser_ewsa/mrakotomanga/Intercomparison/combined_nowcasts/t6/20210208_1245.pt\n",
      "Skipping corrupted file: /gws/nopw/j04/wiser_ewsa/mrakotomanga/Intercomparison/combined_nowcasts/t6/20210209_1200.pt\n",
      "Skipping corrupted file: /gws/nopw/j04/wiser_ewsa/mrakotomanga/Intercomparison/combined_nowcasts/t6/20210209_1215.pt\n",
      "Skipping corrupted file: /gws/nopw/j04/wiser_ewsa/mrakotomanga/Intercomparison/combined_nowcasts/t6/20210209_1230.pt\n",
      "Skipping corrupted file: /gws/nopw/j04/wiser_ewsa/mrakotomanga/Intercomparison/combined_nowcasts/t6/20210209_1245.pt\n",
      "Skipping corrupted file: /gws/nopw/j04/wiser_ewsa/mrakotomanga/Intercomparison/combined_nowcasts/t6/20210210_1200.pt\n",
      "Skipping corrupted file: /gws/nopw/j04/wiser_ewsa/mrakotomanga/Intercomparison/combined_nowcasts/t6/20210210_1215.pt\n",
      "Skipping corrupted file: /gws/nopw/j04/wiser_ewsa/mrakotomanga/Intercomparison/combined_nowcasts/t6/20210210_1230.pt\n",
      "Skipping corrupted file: /gws/nopw/j04/wiser_ewsa/mrakotomanga/Intercomparison/combined_nowcasts/t6/20210210_1245.pt\n",
      "Skipping corrupted file: /gws/nopw/j04/wiser_ewsa/mrakotomanga/Intercomparison/combined_nowcasts/t6/20210211_1200.pt\n"
     ]
    },
    {
     "name": "stderr",
     "output_type": "stream",
     "text": [
      "Computing FSS:  77%|███████▋  | 413/537 [00:21<00:02, 50.68it/s]"
     ]
    },
    {
     "name": "stdout",
     "output_type": "stream",
     "text": [
      "Skipping corrupted file: /gws/nopw/j04/wiser_ewsa/mrakotomanga/Intercomparison/combined_nowcasts/t6/20210211_1215.pt\n",
      "Skipping corrupted file: /gws/nopw/j04/wiser_ewsa/mrakotomanga/Intercomparison/combined_nowcasts/t6/20210211_1230.pt\n",
      "Skipping corrupted file: /gws/nopw/j04/wiser_ewsa/mrakotomanga/Intercomparison/combined_nowcasts/t6/20210211_1245.pt\n",
      "Skipping corrupted file: /gws/nopw/j04/wiser_ewsa/mrakotomanga/Intercomparison/combined_nowcasts/t6/20210212_1200.pt\n",
      "Skipping corrupted file: /gws/nopw/j04/wiser_ewsa/mrakotomanga/Intercomparison/combined_nowcasts/t6/20210212_1215.pt\n",
      "Skipping corrupted file: /gws/nopw/j04/wiser_ewsa/mrakotomanga/Intercomparison/combined_nowcasts/t6/20210212_1230.pt\n",
      "Skipping corrupted file: /gws/nopw/j04/wiser_ewsa/mrakotomanga/Intercomparison/combined_nowcasts/t6/20210212_1245.pt\n",
      "Skipping corrupted file: /gws/nopw/j04/wiser_ewsa/mrakotomanga/Intercomparison/combined_nowcasts/t6/20210213_1200.pt\n",
      "Skipping corrupted file: /gws/nopw/j04/wiser_ewsa/mrakotomanga/Intercomparison/combined_nowcasts/t6/20210213_1215.pt\n"
     ]
    },
    {
     "name": "stderr",
     "output_type": "stream",
     "text": [
      "Computing FSS:  78%|███████▊  | 419/537 [00:21<00:02, 41.25it/s]"
     ]
    },
    {
     "name": "stdout",
     "output_type": "stream",
     "text": [
      "Skipping corrupted file: /gws/nopw/j04/wiser_ewsa/mrakotomanga/Intercomparison/combined_nowcasts/t6/20210213_1230.pt\n",
      "Skipping corrupted file: /gws/nopw/j04/wiser_ewsa/mrakotomanga/Intercomparison/combined_nowcasts/t6/20210213_1245.pt\n",
      "Skipping corrupted file: /gws/nopw/j04/wiser_ewsa/mrakotomanga/Intercomparison/combined_nowcasts/t6/20210214_1200.pt\n",
      "Skipping corrupted file: /gws/nopw/j04/wiser_ewsa/mrakotomanga/Intercomparison/combined_nowcasts/t6/20210214_1230.pt\n",
      "Skipping corrupted file: /gws/nopw/j04/wiser_ewsa/mrakotomanga/Intercomparison/combined_nowcasts/t6/20210215_1200.pt\n",
      "Skipping corrupted file: /gws/nopw/j04/wiser_ewsa/mrakotomanga/Intercomparison/combined_nowcasts/t6/20210215_1215.pt\n"
     ]
    },
    {
     "name": "stderr",
     "output_type": "stream",
     "text": [
      "Computing FSS:  80%|███████▉  | 429/537 [00:21<00:02, 40.56it/s]"
     ]
    },
    {
     "name": "stdout",
     "output_type": "stream",
     "text": [
      "Skipping corrupted file: /gws/nopw/j04/wiser_ewsa/mrakotomanga/Intercomparison/combined_nowcasts/t6/20210215_1230.pt\n",
      "Skipping corrupted file: /gws/nopw/j04/wiser_ewsa/mrakotomanga/Intercomparison/combined_nowcasts/t6/20210216_1200.pt\n",
      "Skipping corrupted file: /gws/nopw/j04/wiser_ewsa/mrakotomanga/Intercomparison/combined_nowcasts/t6/20210216_1230.pt\n",
      "Skipping corrupted file: /gws/nopw/j04/wiser_ewsa/mrakotomanga/Intercomparison/combined_nowcasts/t6/20210216_1245.pt\n",
      "Skipping corrupted file: /gws/nopw/j04/wiser_ewsa/mrakotomanga/Intercomparison/combined_nowcasts/t6/20210217_1200.pt\n",
      "Skipping corrupted file: /gws/nopw/j04/wiser_ewsa/mrakotomanga/Intercomparison/combined_nowcasts/t6/20210217_1215.pt\n",
      "Skipping corrupted file: /gws/nopw/j04/wiser_ewsa/mrakotomanga/Intercomparison/combined_nowcasts/t6/20210217_1230.pt\n",
      "Skipping corrupted file: /gws/nopw/j04/wiser_ewsa/mrakotomanga/Intercomparison/combined_nowcasts/t6/20210218_1200.pt\n",
      "Skipping corrupted file: /gws/nopw/j04/wiser_ewsa/mrakotomanga/Intercomparison/combined_nowcasts/t6/20210218_1215.pt\n",
      "Skipping corrupted file: /gws/nopw/j04/wiser_ewsa/mrakotomanga/Intercomparison/combined_nowcasts/t6/20210218_1230.pt\n"
     ]
    },
    {
     "name": "stderr",
     "output_type": "stream",
     "text": [
      "Computing FSS:  81%|████████▏ | 437/537 [00:21<00:02, 48.46it/s]"
     ]
    },
    {
     "name": "stdout",
     "output_type": "stream",
     "text": [
      "Skipping corrupted file: /gws/nopw/j04/wiser_ewsa/mrakotomanga/Intercomparison/combined_nowcasts/t6/20210218_1245.pt\n",
      "Skipping corrupted file: /gws/nopw/j04/wiser_ewsa/mrakotomanga/Intercomparison/combined_nowcasts/t6/20210219_1200.pt\n",
      "Skipping corrupted file: /gws/nopw/j04/wiser_ewsa/mrakotomanga/Intercomparison/combined_nowcasts/t6/20210219_1215.pt\n",
      "Skipping corrupted file: /gws/nopw/j04/wiser_ewsa/mrakotomanga/Intercomparison/combined_nowcasts/t6/20210219_1230.pt\n",
      "Skipping corrupted file: /gws/nopw/j04/wiser_ewsa/mrakotomanga/Intercomparison/combined_nowcasts/t6/20210219_1245.pt\n",
      "Skipping corrupted file: /gws/nopw/j04/wiser_ewsa/mrakotomanga/Intercomparison/combined_nowcasts/t6/20210220_1200.pt\n",
      "Skipping corrupted file: /gws/nopw/j04/wiser_ewsa/mrakotomanga/Intercomparison/combined_nowcasts/t6/20210220_1215.pt\n",
      "Skipping corrupted file: /gws/nopw/j04/wiser_ewsa/mrakotomanga/Intercomparison/combined_nowcasts/t6/20210220_1230.pt\n",
      "Skipping corrupted file: /gws/nopw/j04/wiser_ewsa/mrakotomanga/Intercomparison/combined_nowcasts/t6/20210220_1245.pt\n",
      "Skipping corrupted file: /gws/nopw/j04/wiser_ewsa/mrakotomanga/Intercomparison/combined_nowcasts/t6/20210221_1200.pt\n",
      "Skipping corrupted file: /gws/nopw/j04/wiser_ewsa/mrakotomanga/Intercomparison/combined_nowcasts/t6/20210221_1215.pt\n",
      "Skipping corrupted file: /gws/nopw/j04/wiser_ewsa/mrakotomanga/Intercomparison/combined_nowcasts/t6/20210221_1230.pt\n",
      "Skipping corrupted file: /gws/nopw/j04/wiser_ewsa/mrakotomanga/Intercomparison/combined_nowcasts/t6/20210221_1245.pt\n"
     ]
    },
    {
     "name": "stderr",
     "output_type": "stream",
     "text": [
      "Computing FSS:  83%|████████▎ | 448/537 [00:22<00:01, 46.26it/s]"
     ]
    },
    {
     "name": "stdout",
     "output_type": "stream",
     "text": [
      "Skipping corrupted file: /gws/nopw/j04/wiser_ewsa/mrakotomanga/Intercomparison/combined_nowcasts/t6/20210222_1200.pt\n",
      "Skipping corrupted file: /gws/nopw/j04/wiser_ewsa/mrakotomanga/Intercomparison/combined_nowcasts/t6/20210222_1215.pt\n",
      "Skipping corrupted file: /gws/nopw/j04/wiser_ewsa/mrakotomanga/Intercomparison/combined_nowcasts/t6/20210222_1230.pt\n",
      "Skipping corrupted file: /gws/nopw/j04/wiser_ewsa/mrakotomanga/Intercomparison/combined_nowcasts/t6/20210223_1200.pt\n",
      "Skipping corrupted file: /gws/nopw/j04/wiser_ewsa/mrakotomanga/Intercomparison/combined_nowcasts/t6/20210223_1215.pt\n",
      "Skipping corrupted file: /gws/nopw/j04/wiser_ewsa/mrakotomanga/Intercomparison/combined_nowcasts/t6/20210223_1230.pt\n",
      "Skipping corrupted file: /gws/nopw/j04/wiser_ewsa/mrakotomanga/Intercomparison/combined_nowcasts/t6/20210224_1200.pt\n",
      "Skipping corrupted file: /gws/nopw/j04/wiser_ewsa/mrakotomanga/Intercomparison/combined_nowcasts/t6/20210224_1215.pt\n",
      "Skipping corrupted file: /gws/nopw/j04/wiser_ewsa/mrakotomanga/Intercomparison/combined_nowcasts/t6/20210224_1230.pt\n"
     ]
    },
    {
     "name": "stderr",
     "output_type": "stream",
     "text": [
      "Computing FSS:  85%|████████▌ | 458/537 [00:22<00:01, 41.64it/s]"
     ]
    },
    {
     "name": "stdout",
     "output_type": "stream",
     "text": [
      "Skipping corrupted file: /gws/nopw/j04/wiser_ewsa/mrakotomanga/Intercomparison/combined_nowcasts/t6/20210224_1245.pt\n",
      "Skipping corrupted file: /gws/nopw/j04/wiser_ewsa/mrakotomanga/Intercomparison/combined_nowcasts/t6/20210225_1200.pt\n",
      "Skipping corrupted file: /gws/nopw/j04/wiser_ewsa/mrakotomanga/Intercomparison/combined_nowcasts/t6/20210225_1215.pt\n",
      "Skipping corrupted file: /gws/nopw/j04/wiser_ewsa/mrakotomanga/Intercomparison/combined_nowcasts/t6/20210225_1230.pt\n",
      "Skipping corrupted file: /gws/nopw/j04/wiser_ewsa/mrakotomanga/Intercomparison/combined_nowcasts/t6/20210225_1245.pt\n",
      "Skipping corrupted file: /gws/nopw/j04/wiser_ewsa/mrakotomanga/Intercomparison/combined_nowcasts/t6/20210226_1200.pt\n",
      "Skipping corrupted file: /gws/nopw/j04/wiser_ewsa/mrakotomanga/Intercomparison/combined_nowcasts/t6/20210226_1215.pt\n",
      "Skipping corrupted file: /gws/nopw/j04/wiser_ewsa/mrakotomanga/Intercomparison/combined_nowcasts/t6/20210226_1230.pt\n",
      "Skipping corrupted file: /gws/nopw/j04/wiser_ewsa/mrakotomanga/Intercomparison/combined_nowcasts/t6/20210226_1245.pt\n",
      "Skipping corrupted file: /gws/nopw/j04/wiser_ewsa/mrakotomanga/Intercomparison/combined_nowcasts/t6/20210227_1200.pt\n",
      "Skipping corrupted file: /gws/nopw/j04/wiser_ewsa/mrakotomanga/Intercomparison/combined_nowcasts/t6/20210227_1215.pt\n",
      "Skipping corrupted file: /gws/nopw/j04/wiser_ewsa/mrakotomanga/Intercomparison/combined_nowcasts/t6/20210227_1230.pt\n",
      "Skipping corrupted file: /gws/nopw/j04/wiser_ewsa/mrakotomanga/Intercomparison/combined_nowcasts/t6/20210227_1245.pt\n"
     ]
    },
    {
     "name": "stderr",
     "output_type": "stream",
     "text": [
      "Computing FSS:  87%|████████▋ | 469/537 [00:22<00:01, 56.53it/s]"
     ]
    },
    {
     "name": "stdout",
     "output_type": "stream",
     "text": [
      "Skipping corrupted file: /gws/nopw/j04/wiser_ewsa/mrakotomanga/Intercomparison/combined_nowcasts/t6/20210228_1245.pt\n",
      "Skipping corrupted file: /gws/nopw/j04/wiser_ewsa/mrakotomanga/Intercomparison/combined_nowcasts/t6/20211201_1200.pt\n",
      "Skipping corrupted file: /gws/nopw/j04/wiser_ewsa/mrakotomanga/Intercomparison/combined_nowcasts/t6/20211201_1215.pt\n",
      "Skipping corrupted file: /gws/nopw/j04/wiser_ewsa/mrakotomanga/Intercomparison/combined_nowcasts/t6/20211201_1230.pt\n",
      "Skipping corrupted file: /gws/nopw/j04/wiser_ewsa/mrakotomanga/Intercomparison/combined_nowcasts/t6/20211201_1245.pt\n",
      "Skipping corrupted file: /gws/nopw/j04/wiser_ewsa/mrakotomanga/Intercomparison/combined_nowcasts/t6/20211203_1215.pt\n",
      "Skipping corrupted file: /gws/nopw/j04/wiser_ewsa/mrakotomanga/Intercomparison/combined_nowcasts/t6/20211203_1230.pt\n",
      "Skipping corrupted file: /gws/nopw/j04/wiser_ewsa/mrakotomanga/Intercomparison/combined_nowcasts/t6/20211203_1245.pt\n",
      "Skipping corrupted file: /gws/nopw/j04/wiser_ewsa/mrakotomanga/Intercomparison/combined_nowcasts/t6/20211204_1200.pt\n"
     ]
    },
    {
     "name": "stderr",
     "output_type": "stream",
     "text": [
      "Computing FSS:  88%|████████▊ | 475/537 [00:22<00:01, 45.52it/s]"
     ]
    },
    {
     "name": "stdout",
     "output_type": "stream",
     "text": [
      "Skipping corrupted file: /gws/nopw/j04/wiser_ewsa/mrakotomanga/Intercomparison/combined_nowcasts/t6/20211204_1215.pt\n",
      "Skipping corrupted file: /gws/nopw/j04/wiser_ewsa/mrakotomanga/Intercomparison/combined_nowcasts/t6/20211205_1200.pt\n",
      "Skipping corrupted file: /gws/nopw/j04/wiser_ewsa/mrakotomanga/Intercomparison/combined_nowcasts/t6/20211205_1215.pt\n",
      "Skipping corrupted file: /gws/nopw/j04/wiser_ewsa/mrakotomanga/Intercomparison/combined_nowcasts/t6/20211205_1230.pt\n"
     ]
    },
    {
     "name": "stderr",
     "output_type": "stream",
     "text": [
      "Computing FSS:  90%|█████████ | 485/537 [00:23<00:02, 25.44it/s]"
     ]
    },
    {
     "name": "stdout",
     "output_type": "stream",
     "text": [
      "Skipping corrupted file: /gws/nopw/j04/wiser_ewsa/mrakotomanga/Intercomparison/combined_nowcasts/t6/20211205_1245.pt\n",
      "Skipping corrupted file: /gws/nopw/j04/wiser_ewsa/mrakotomanga/Intercomparison/combined_nowcasts/t6/20211206_1200.pt\n",
      "Skipping corrupted file: /gws/nopw/j04/wiser_ewsa/mrakotomanga/Intercomparison/combined_nowcasts/t6/20211206_1215.pt\n",
      "Skipping corrupted file: /gws/nopw/j04/wiser_ewsa/mrakotomanga/Intercomparison/combined_nowcasts/t6/20211206_1230.pt\n",
      "Skipping corrupted file: /gws/nopw/j04/wiser_ewsa/mrakotomanga/Intercomparison/combined_nowcasts/t6/20211206_1245.pt\n",
      "Skipping corrupted file: /gws/nopw/j04/wiser_ewsa/mrakotomanga/Intercomparison/combined_nowcasts/t6/20211207_1200.pt\n",
      "Skipping corrupted file: /gws/nopw/j04/wiser_ewsa/mrakotomanga/Intercomparison/combined_nowcasts/t6/20211207_1215.pt\n",
      "Skipping corrupted file: /gws/nopw/j04/wiser_ewsa/mrakotomanga/Intercomparison/combined_nowcasts/t6/20211207_1230.pt\n",
      "Skipping corrupted file: /gws/nopw/j04/wiser_ewsa/mrakotomanga/Intercomparison/combined_nowcasts/t6/20211207_1245.pt\n",
      "Skipping corrupted file: /gws/nopw/j04/wiser_ewsa/mrakotomanga/Intercomparison/combined_nowcasts/t6/20211208_1200.pt\n"
     ]
    },
    {
     "name": "stderr",
     "output_type": "stream",
     "text": [
      "Computing FSS:  92%|█████████▏| 495/537 [00:23<00:01, 29.58it/s]"
     ]
    },
    {
     "name": "stdout",
     "output_type": "stream",
     "text": [
      "Skipping corrupted file: /gws/nopw/j04/wiser_ewsa/mrakotomanga/Intercomparison/combined_nowcasts/t6/20211208_1215.pt\n",
      "Skipping corrupted file: /gws/nopw/j04/wiser_ewsa/mrakotomanga/Intercomparison/combined_nowcasts/t6/20211208_1245.pt\n",
      "Skipping corrupted file: /gws/nopw/j04/wiser_ewsa/mrakotomanga/Intercomparison/combined_nowcasts/t6/20211209_1200.pt\n",
      "Skipping corrupted file: /gws/nopw/j04/wiser_ewsa/mrakotomanga/Intercomparison/combined_nowcasts/t6/20211209_1230.pt\n",
      "Skipping corrupted file: /gws/nopw/j04/wiser_ewsa/mrakotomanga/Intercomparison/combined_nowcasts/t6/20211209_1245.pt\n",
      "Skipping corrupted file: /gws/nopw/j04/wiser_ewsa/mrakotomanga/Intercomparison/combined_nowcasts/t6/20211210_1200.pt\n",
      "Skipping corrupted file: /gws/nopw/j04/wiser_ewsa/mrakotomanga/Intercomparison/combined_nowcasts/t6/20211210_1215.pt\n",
      "Skipping corrupted file: /gws/nopw/j04/wiser_ewsa/mrakotomanga/Intercomparison/combined_nowcasts/t6/20211211_1200.pt\n"
     ]
    },
    {
     "name": "stderr",
     "output_type": "stream",
     "text": [
      "Computing FSS:  93%|█████████▎| 499/537 [00:23<00:01, 29.88it/s]"
     ]
    },
    {
     "name": "stdout",
     "output_type": "stream",
     "text": [
      "Skipping corrupted file: /gws/nopw/j04/wiser_ewsa/mrakotomanga/Intercomparison/combined_nowcasts/t6/20211211_1215.pt\n",
      "Skipping corrupted file: /gws/nopw/j04/wiser_ewsa/mrakotomanga/Intercomparison/combined_nowcasts/t6/20211211_1245.pt\n",
      "Skipping corrupted file: /gws/nopw/j04/wiser_ewsa/mrakotomanga/Intercomparison/combined_nowcasts/t6/20211212_1200.pt\n",
      "Skipping corrupted file: /gws/nopw/j04/wiser_ewsa/mrakotomanga/Intercomparison/combined_nowcasts/t6/20211212_1215.pt\n",
      "Skipping corrupted file: /gws/nopw/j04/wiser_ewsa/mrakotomanga/Intercomparison/combined_nowcasts/t6/20211212_1230.pt\n",
      "Skipping corrupted file: /gws/nopw/j04/wiser_ewsa/mrakotomanga/Intercomparison/combined_nowcasts/t6/20211212_1245.pt\n",
      "Skipping corrupted file: /gws/nopw/j04/wiser_ewsa/mrakotomanga/Intercomparison/combined_nowcasts/t6/20211213_1200.pt\n",
      "Skipping corrupted file: /gws/nopw/j04/wiser_ewsa/mrakotomanga/Intercomparison/combined_nowcasts/t6/20211213_1215.pt\n",
      "Skipping corrupted file: /gws/nopw/j04/wiser_ewsa/mrakotomanga/Intercomparison/combined_nowcasts/t6/20211213_1230.pt\n"
     ]
    },
    {
     "name": "stderr",
     "output_type": "stream",
     "text": [
      "Computing FSS:  95%|█████████▌| 511/537 [00:24<00:00, 39.07it/s]"
     ]
    },
    {
     "name": "stdout",
     "output_type": "stream",
     "text": [
      "Skipping corrupted file: /gws/nopw/j04/wiser_ewsa/mrakotomanga/Intercomparison/combined_nowcasts/t6/20211213_1245.pt\n",
      "Skipping corrupted file: /gws/nopw/j04/wiser_ewsa/mrakotomanga/Intercomparison/combined_nowcasts/t6/20211214_1200.pt\n",
      "Skipping corrupted file: /gws/nopw/j04/wiser_ewsa/mrakotomanga/Intercomparison/combined_nowcasts/t6/20211214_1215.pt\n",
      "Skipping corrupted file: /gws/nopw/j04/wiser_ewsa/mrakotomanga/Intercomparison/combined_nowcasts/t6/20211214_1230.pt\n",
      "Skipping corrupted file: /gws/nopw/j04/wiser_ewsa/mrakotomanga/Intercomparison/combined_nowcasts/t6/20211214_1245.pt\n",
      "Skipping corrupted file: /gws/nopw/j04/wiser_ewsa/mrakotomanga/Intercomparison/combined_nowcasts/t6/20211215_1215.pt\n",
      "Skipping corrupted file: /gws/nopw/j04/wiser_ewsa/mrakotomanga/Intercomparison/combined_nowcasts/t6/20211215_1230.pt\n",
      "Skipping corrupted file: /gws/nopw/j04/wiser_ewsa/mrakotomanga/Intercomparison/combined_nowcasts/t6/20211215_1245.pt\n",
      "Skipping corrupted file: /gws/nopw/j04/wiser_ewsa/mrakotomanga/Intercomparison/combined_nowcasts/t6/20211216_1200.pt\n",
      "Skipping corrupted file: /gws/nopw/j04/wiser_ewsa/mrakotomanga/Intercomparison/combined_nowcasts/t6/20211216_1215.pt\n",
      "Skipping corrupted file: /gws/nopw/j04/wiser_ewsa/mrakotomanga/Intercomparison/combined_nowcasts/t6/20211216_1230.pt\n",
      "Skipping corrupted file: /gws/nopw/j04/wiser_ewsa/mrakotomanga/Intercomparison/combined_nowcasts/t6/20211216_1245.pt\n",
      "Skipping corrupted file: /gws/nopw/j04/wiser_ewsa/mrakotomanga/Intercomparison/combined_nowcasts/t6/20211217_1200.pt\n"
     ]
    },
    {
     "name": "stderr",
     "output_type": "stream",
     "text": [
      "Computing FSS:  98%|█████████▊| 524/537 [00:24<00:00, 42.18it/s]"
     ]
    },
    {
     "name": "stdout",
     "output_type": "stream",
     "text": [
      "Skipping corrupted file: /gws/nopw/j04/wiser_ewsa/mrakotomanga/Intercomparison/combined_nowcasts/t6/20211217_1215.pt\n",
      "Skipping corrupted file: /gws/nopw/j04/wiser_ewsa/mrakotomanga/Intercomparison/combined_nowcasts/t6/20211217_1230.pt\n",
      "Skipping corrupted file: /gws/nopw/j04/wiser_ewsa/mrakotomanga/Intercomparison/combined_nowcasts/t6/20211217_1245.pt\n",
      "Skipping corrupted file: /gws/nopw/j04/wiser_ewsa/mrakotomanga/Intercomparison/combined_nowcasts/t6/20211218_1200.pt\n",
      "Skipping corrupted file: /gws/nopw/j04/wiser_ewsa/mrakotomanga/Intercomparison/combined_nowcasts/t6/20211218_1215.pt\n",
      "Skipping corrupted file: /gws/nopw/j04/wiser_ewsa/mrakotomanga/Intercomparison/combined_nowcasts/t6/20211218_1230.pt\n",
      "Skipping corrupted file: /gws/nopw/j04/wiser_ewsa/mrakotomanga/Intercomparison/combined_nowcasts/t6/20211218_1245.pt\n",
      "Skipping corrupted file: /gws/nopw/j04/wiser_ewsa/mrakotomanga/Intercomparison/combined_nowcasts/t6/20211221_1215.pt\n",
      "Skipping corrupted file: /gws/nopw/j04/wiser_ewsa/mrakotomanga/Intercomparison/combined_nowcasts/t6/20211221_1230.pt\n",
      "Skipping corrupted file: /gws/nopw/j04/wiser_ewsa/mrakotomanga/Intercomparison/combined_nowcasts/t6/20211221_1245.pt\n"
     ]
    },
    {
     "name": "stderr",
     "output_type": "stream",
     "text": [
      "Computing FSS: 100%|██████████| 537/537 [00:24<00:00, 21.91it/s]"
     ]
    },
    {
     "name": "stdout",
     "output_type": "stream",
     "text": [
      "Skipping corrupted file: /gws/nopw/j04/wiser_ewsa/mrakotomanga/Intercomparison/combined_nowcasts/t6/20211222_1200.pt\n",
      "Skipping corrupted file: /gws/nopw/j04/wiser_ewsa/mrakotomanga/Intercomparison/combined_nowcasts/t6/20211222_1215.pt\n",
      "Skipping corrupted file: /gws/nopw/j04/wiser_ewsa/mrakotomanga/Intercomparison/combined_nowcasts/t6/20211222_1230.pt\n",
      "Skipping corrupted file: /gws/nopw/j04/wiser_ewsa/mrakotomanga/Intercomparison/combined_nowcasts/t6/20211222_1245.pt\n",
      "Skipping corrupted file: /gws/nopw/j04/wiser_ewsa/mrakotomanga/Intercomparison/combined_nowcasts/t6/20211223_1200.pt\n",
      "Skipping corrupted file: /gws/nopw/j04/wiser_ewsa/mrakotomanga/Intercomparison/combined_nowcasts/t6/20211223_1230.pt\n",
      "Skipping corrupted file: /gws/nopw/j04/wiser_ewsa/mrakotomanga/Intercomparison/combined_nowcasts/t6/20211223_1245.pt\n",
      "Skipping corrupted file: /gws/nopw/j04/wiser_ewsa/mrakotomanga/Intercomparison/combined_nowcasts/t6/20211224_1215.pt\n",
      "Skipping corrupted file: /gws/nopw/j04/wiser_ewsa/mrakotomanga/Intercomparison/combined_nowcasts/t6/20211224_1230.pt\n",
      "Skipping corrupted file: /gws/nopw/j04/wiser_ewsa/mrakotomanga/Intercomparison/combined_nowcasts/t6/20211224_1245.pt\n",
      "\n",
      "Average FSS for hour=12 UTC (lead t+6)\n",
      "  Window |  Scale(km) |      ZCAST |     NFLICS |     NetNCC\n",
      "--------------------------------------------------------------\n",
      "       3 |          9 | 0.1177 | 0.1079 | 0.1219\n",
      "       9 |         27 | 0.1384 | 0.1193 | 0.1397\n",
      "      25 |         75 | 0.1940 | 0.1462 | 0.1835\n",
      "      49 |        147 | 0.2642 | 0.1758 | 0.2406\n",
      "      81 |        243 | 0.3245 | 0.2014 | 0.2883\n",
      "     121 |        363 | 0.3661 | 0.2219 | 0.3224\n"
     ]
    },
    {
     "name": "stderr",
     "output_type": "stream",
     "text": [
      "\n"
     ]
    }
   ],
   "source": [
    "all_files = sorted(f for f in os.listdir(base_dir) if f.endswith(\".pt\"))\n",
    "filtered_files = [f for f in all_files if f[9:11] == target_hour]\n",
    "print(f\"Found {len(filtered_files)} files at hour={target_hour} UTC\")\n",
    "\n",
    "fss_results = {w: {\"zcast\": [], \"nflics\": [], \"netncc\": []} for w in windows}\n",
    "\n",
    "for f in tqdm(filtered_files, desc=\"Computing FSS\"):\n",
    "    file_path = os.path.join(base_dir, f)\n",
    "    try:\n",
    "        data = torch.load(file_path, weights_only=False)\n",
    "    except EOFError:\n",
    "        print(f\"Skipping corrupted file: {file_path}\")\n",
    "        continue\n",
    "    except Exception as e:\n",
    "        print(f\"Error reading {file_path}: {e}\")\n",
    "        continue\n",
    "\n",
    "    gt = data[\"ground_truth\"].astype(np.float32)\n",
    "    zcast = data[\"zcast\"].astype(np.float32)\n",
    "    nflics = data[\"nflics\"].astype(np.float32) / 100\n",
    "    netncc = data[\"netncc\"].astype(np.float32) / 100\n",
    "\n",
    "    for w in windows:\n",
    "        fss_results[w][\"zcast\"].append(compute_fss(zcast, gt, w))\n",
    "        fss_results[w][\"nflics\"].append(compute_fss(nflics, gt, w))\n",
    "        fss_results[w][\"netncc\"].append(compute_fss(netncc, gt, w))\n",
    "\n",
    "print(f\"\\nAverage FSS for hour={target_hour} UTC (lead t+{lead_time})\")\n",
    "print(f\"{'Window':>8} | {'Scale(km)':>10} | {'ZCAST':>10} | {'NFLICS':>10} | {'NetNCC':>10}\")\n",
    "print(\"-\" * 62)\n",
    "\n",
    "for w in windows:\n",
    "    scale = w * PIXEL_SIZE_KM\n",
    "    mean_z = np.nanmean(fss_results[w][\"zcast\"])\n",
    "    mean_n = np.nanmean(fss_results[w][\"nflics\"])\n",
    "    mean_c = np.nanmean(fss_results[w][\"netncc\"])\n",
    "    print(f\"{w:>8} | {scale:>10.0f} | {mean_z:.4f} | {mean_n:.4f} | {mean_c:.4f}\")\n"
   ]
  }
 ],
 "metadata": {
  "kernelspec": {
   "display_name": ".venv",
   "language": "python",
   "name": "python3"
  },
  "language_info": {
   "codemirror_mode": {
    "name": "ipython",
    "version": 3
   },
   "file_extension": ".py",
   "mimetype": "text/x-python",
   "name": "python",
   "nbconvert_exporter": "python",
   "pygments_lexer": "ipython3",
   "version": "3.12.2"
  }
 },
 "nbformat": 4,
 "nbformat_minor": 5
}
